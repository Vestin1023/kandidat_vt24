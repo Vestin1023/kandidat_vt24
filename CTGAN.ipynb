{
  "cells": [
    {
      "cell_type": "code",
      "source": [
        "%pip install SDV"
      ],
      "outputs": [
        {
          "output_type": "stream",
          "name": "stdout",
          "text": "Requirement already satisfied: SDV in /anaconda/envs/azureml_py310_sdkv2/lib/python3.10/site-packages (1.11.0)\nRequirement already satisfied: boto3<2,>=1.15.0 in /anaconda/envs/azureml_py310_sdkv2/lib/python3.10/site-packages (from SDV) (1.34.82)\nRequirement already satisfied: botocore<2,>=1.18 in /anaconda/envs/azureml_py310_sdkv2/lib/python3.10/site-packages (from SDV) (1.34.82)\nRequirement already satisfied: cloudpickle<3.0,>=2.1.0 in /anaconda/envs/azureml_py310_sdkv2/lib/python3.10/site-packages (from SDV) (2.2.1)\nRequirement already satisfied: graphviz<1,>=0.13.2 in /anaconda/envs/azureml_py310_sdkv2/lib/python3.10/site-packages (from SDV) (0.20.3)\nRequirement already satisfied: tqdm<5,>=4.15 in /anaconda/envs/azureml_py310_sdkv2/lib/python3.10/site-packages (from SDV) (4.65.0)\nRequirement already satisfied: copulas<0.10,>=0.9.0 in /anaconda/envs/azureml_py310_sdkv2/lib/python3.10/site-packages (from SDV) (0.9.2)\nRequirement already satisfied: ctgan<0.10,>=0.9.0 in /anaconda/envs/azureml_py310_sdkv2/lib/python3.10/site-packages (from SDV) (0.9.1)\nRequirement already satisfied: deepecho<0.6,>=0.5 in /anaconda/envs/azureml_py310_sdkv2/lib/python3.10/site-packages (from SDV) (0.5.0)\nRequirement already satisfied: rdt<2,>=1.10.0 in /anaconda/envs/azureml_py310_sdkv2/lib/python3.10/site-packages (from SDV) (1.11.0)\nRequirement already satisfied: sdmetrics<0.14,>=0.13.0 in /anaconda/envs/azureml_py310_sdkv2/lib/python3.10/site-packages (from SDV) (0.13.0)\nRequirement already satisfied: numpy<2,>=1.23.3 in /anaconda/envs/azureml_py310_sdkv2/lib/python3.10/site-packages (from SDV) (1.23.5)\nRequirement already satisfied: pandas>=1.3.4 in /anaconda/envs/azureml_py310_sdkv2/lib/python3.10/site-packages (from SDV) (2.0.2)\nRequirement already satisfied: jmespath<2.0.0,>=0.7.1 in /anaconda/envs/azureml_py310_sdkv2/lib/python3.10/site-packages (from boto3<2,>=1.15.0->SDV) (1.0.1)\nRequirement already satisfied: s3transfer<0.11.0,>=0.10.0 in /anaconda/envs/azureml_py310_sdkv2/lib/python3.10/site-packages (from boto3<2,>=1.15.0->SDV) (0.10.1)\nRequirement already satisfied: python-dateutil<3.0.0,>=2.1 in /anaconda/envs/azureml_py310_sdkv2/lib/python3.10/site-packages (from botocore<2,>=1.18->SDV) (2.8.2)\nRequirement already satisfied: urllib3!=2.2.0,<3,>=1.25.4 in /anaconda/envs/azureml_py310_sdkv2/lib/python3.10/site-packages (from botocore<2,>=1.18->SDV) (2.2.1)\nRequirement already satisfied: matplotlib<4,>=3.6.0 in /anaconda/envs/azureml_py310_sdkv2/lib/python3.10/site-packages (from copulas<0.10,>=0.9.0->SDV) (3.7.1)\nRequirement already satisfied: scipy<2,>=1.9.2 in /anaconda/envs/azureml_py310_sdkv2/lib/python3.10/site-packages (from copulas<0.10,>=0.9.0->SDV) (1.10.1)\nRequirement already satisfied: scikit-learn>=1.1.3 in /anaconda/envs/azureml_py310_sdkv2/lib/python3.10/site-packages (from ctgan<0.10,>=0.9.0->SDV) (1.2.2)\nRequirement already satisfied: torch>=1.11.0 in /anaconda/envs/azureml_py310_sdkv2/lib/python3.10/site-packages (from ctgan<0.10,>=0.9.0->SDV) (2.2.2)\nRequirement already satisfied: pytz>=2020.1 in /anaconda/envs/azureml_py310_sdkv2/lib/python3.10/site-packages (from pandas>=1.3.4->SDV) (2023.3)\nRequirement already satisfied: tzdata>=2022.1 in /anaconda/envs/azureml_py310_sdkv2/lib/python3.10/site-packages (from pandas>=1.3.4->SDV) (2023.3)\nRequirement already satisfied: Faker>=17 in /anaconda/envs/azureml_py310_sdkv2/lib/python3.10/site-packages (from rdt<2,>=1.10.0->SDV) (24.8.0)\nRequirement already satisfied: plotly<6,>=5.10.0 in /anaconda/envs/azureml_py310_sdkv2/lib/python3.10/site-packages (from sdmetrics<0.14,>=0.13.0->SDV) (5.20.0)\nRequirement already satisfied: contourpy>=1.0.1 in /anaconda/envs/azureml_py310_sdkv2/lib/python3.10/site-packages (from matplotlib<4,>=3.6.0->copulas<0.10,>=0.9.0->SDV) (1.1.0)\nRequirement already satisfied: cycler>=0.10 in /anaconda/envs/azureml_py310_sdkv2/lib/python3.10/site-packages (from matplotlib<4,>=3.6.0->copulas<0.10,>=0.9.0->SDV) (0.11.0)\nRequirement already satisfied: fonttools>=4.22.0 in /anaconda/envs/azureml_py310_sdkv2/lib/python3.10/site-packages (from matplotlib<4,>=3.6.0->copulas<0.10,>=0.9.0->SDV) (4.40.0)\nRequirement already satisfied: kiwisolver>=1.0.1 in /anaconda/envs/azureml_py310_sdkv2/lib/python3.10/site-packages (from matplotlib<4,>=3.6.0->copulas<0.10,>=0.9.0->SDV) (1.4.4)\nRequirement already satisfied: packaging>=20.0 in /anaconda/envs/azureml_py310_sdkv2/lib/python3.10/site-packages (from matplotlib<4,>=3.6.0->copulas<0.10,>=0.9.0->SDV) (23.0)\nRequirement already satisfied: pillow>=6.2.0 in /anaconda/envs/azureml_py310_sdkv2/lib/python3.10/site-packages (from matplotlib<4,>=3.6.0->copulas<0.10,>=0.9.0->SDV) (9.5.0)\nRequirement already satisfied: pyparsing>=2.3.1 in /anaconda/envs/azureml_py310_sdkv2/lib/python3.10/site-packages (from matplotlib<4,>=3.6.0->copulas<0.10,>=0.9.0->SDV) (3.1.0)\nRequirement already satisfied: tenacity>=6.2.0 in /anaconda/envs/azureml_py310_sdkv2/lib/python3.10/site-packages (from plotly<6,>=5.10.0->sdmetrics<0.14,>=0.13.0->SDV) (8.2.3)\nRequirement already satisfied: six>=1.5 in /anaconda/envs/azureml_py310_sdkv2/lib/python3.10/site-packages (from python-dateutil<3.0.0,>=2.1->botocore<2,>=1.18->SDV) (1.16.0)\nRequirement already satisfied: joblib>=1.1.1 in /anaconda/envs/azureml_py310_sdkv2/lib/python3.10/site-packages (from scikit-learn>=1.1.3->ctgan<0.10,>=0.9.0->SDV) (1.2.0)\nRequirement already satisfied: threadpoolctl>=2.0.0 in /anaconda/envs/azureml_py310_sdkv2/lib/python3.10/site-packages (from scikit-learn>=1.1.3->ctgan<0.10,>=0.9.0->SDV) (3.1.0)\nRequirement already satisfied: filelock in /anaconda/envs/azureml_py310_sdkv2/lib/python3.10/site-packages (from torch>=1.11.0->ctgan<0.10,>=0.9.0->SDV) (3.12.2)\nRequirement already satisfied: typing-extensions>=4.8.0 in /anaconda/envs/azureml_py310_sdkv2/lib/python3.10/site-packages (from torch>=1.11.0->ctgan<0.10,>=0.9.0->SDV) (4.11.0)\nRequirement already satisfied: sympy in /anaconda/envs/azureml_py310_sdkv2/lib/python3.10/site-packages (from torch>=1.11.0->ctgan<0.10,>=0.9.0->SDV) (1.12)\nRequirement already satisfied: networkx in /anaconda/envs/azureml_py310_sdkv2/lib/python3.10/site-packages (from torch>=1.11.0->ctgan<0.10,>=0.9.0->SDV) (3.1)\nRequirement already satisfied: jinja2 in /anaconda/envs/azureml_py310_sdkv2/lib/python3.10/site-packages (from torch>=1.11.0->ctgan<0.10,>=0.9.0->SDV) (3.1.2)\nRequirement already satisfied: fsspec in /anaconda/envs/azureml_py310_sdkv2/lib/python3.10/site-packages (from torch>=1.11.0->ctgan<0.10,>=0.9.0->SDV) (2023.6.0)\nRequirement already satisfied: nvidia-cuda-nvrtc-cu12==12.1.105 in /anaconda/envs/azureml_py310_sdkv2/lib/python3.10/site-packages (from torch>=1.11.0->ctgan<0.10,>=0.9.0->SDV) (12.1.105)\nRequirement already satisfied: nvidia-cuda-runtime-cu12==12.1.105 in /anaconda/envs/azureml_py310_sdkv2/lib/python3.10/site-packages (from torch>=1.11.0->ctgan<0.10,>=0.9.0->SDV) (12.1.105)\nRequirement already satisfied: nvidia-cuda-cupti-cu12==12.1.105 in /anaconda/envs/azureml_py310_sdkv2/lib/python3.10/site-packages (from torch>=1.11.0->ctgan<0.10,>=0.9.0->SDV) (12.1.105)\nRequirement already satisfied: nvidia-cudnn-cu12==8.9.2.26 in /anaconda/envs/azureml_py310_sdkv2/lib/python3.10/site-packages (from torch>=1.11.0->ctgan<0.10,>=0.9.0->SDV) (8.9.2.26)\nRequirement already satisfied: nvidia-cublas-cu12==12.1.3.1 in /anaconda/envs/azureml_py310_sdkv2/lib/python3.10/site-packages (from torch>=1.11.0->ctgan<0.10,>=0.9.0->SDV) (12.1.3.1)\nRequirement already satisfied: nvidia-cufft-cu12==11.0.2.54 in /anaconda/envs/azureml_py310_sdkv2/lib/python3.10/site-packages (from torch>=1.11.0->ctgan<0.10,>=0.9.0->SDV) (11.0.2.54)\nRequirement already satisfied: nvidia-curand-cu12==10.3.2.106 in /anaconda/envs/azureml_py310_sdkv2/lib/python3.10/site-packages (from torch>=1.11.0->ctgan<0.10,>=0.9.0->SDV) (10.3.2.106)\nRequirement already satisfied: nvidia-cusolver-cu12==11.4.5.107 in /anaconda/envs/azureml_py310_sdkv2/lib/python3.10/site-packages (from torch>=1.11.0->ctgan<0.10,>=0.9.0->SDV) (11.4.5.107)\nRequirement already satisfied: nvidia-cusparse-cu12==12.1.0.106 in /anaconda/envs/azureml_py310_sdkv2/lib/python3.10/site-packages (from torch>=1.11.0->ctgan<0.10,>=0.9.0->SDV) (12.1.0.106)\nRequirement already satisfied: nvidia-nccl-cu12==2.19.3 in /anaconda/envs/azureml_py310_sdkv2/lib/python3.10/site-packages (from torch>=1.11.0->ctgan<0.10,>=0.9.0->SDV) (2.19.3)\nRequirement already satisfied: nvidia-nvtx-cu12==12.1.105 in /anaconda/envs/azureml_py310_sdkv2/lib/python3.10/site-packages (from torch>=1.11.0->ctgan<0.10,>=0.9.0->SDV) (12.1.105)\nRequirement already satisfied: triton==2.2.0 in /anaconda/envs/azureml_py310_sdkv2/lib/python3.10/site-packages (from torch>=1.11.0->ctgan<0.10,>=0.9.0->SDV) (2.2.0)\nRequirement already satisfied: nvidia-nvjitlink-cu12 in /anaconda/envs/azureml_py310_sdkv2/lib/python3.10/site-packages (from nvidia-cusolver-cu12==11.4.5.107->torch>=1.11.0->ctgan<0.10,>=0.9.0->SDV) (12.4.127)\nRequirement already satisfied: MarkupSafe>=2.0 in /anaconda/envs/azureml_py310_sdkv2/lib/python3.10/site-packages (from jinja2->torch>=1.11.0->ctgan<0.10,>=0.9.0->SDV) (2.1.3)\nRequirement already satisfied: mpmath>=0.19 in /anaconda/envs/azureml_py310_sdkv2/lib/python3.10/site-packages (from sympy->torch>=1.11.0->ctgan<0.10,>=0.9.0->SDV) (1.3.0)\nNote: you may need to restart the kernel to use updated packages.\n"
        }
      ],
      "execution_count": 1,
      "metadata": {}
    },
    {
      "cell_type": "code",
      "source": [
        "import sdv\n",
        "\n",
        "print(sdv.version.public)"
      ],
      "outputs": [
        {
          "output_type": "stream",
          "name": "stdout",
          "text": "1.11.0\n"
        }
      ],
      "execution_count": 22,
      "metadata": {
        "jupyter": {
          "source_hidden": false,
          "outputs_hidden": false
        },
        "nteract": {
          "transient": {
            "deleting": false
          }
        },
        "gather": {
          "logged": 1716280622521
        }
      }
    },
    {
      "cell_type": "code",
      "source": [
        "from sdv.metadata import SingleTableMetadata\n",
        "\n",
        "metadata = SingleTableMetadata()\n",
        "metadata.detect_from_csv(filepath='data/CompetenceContractorFullJoin.csv')\n",
        "\n",
        "python_dict = metadata.to_dict()\n",
        "metadata.remove_primary_key() #satte primarykey till firstname\n",
        "print(metadata)\n",
        "#metadata.visualize(\n",
        "#    show_table_details='full',\n",
        "#    output_filepath='my_metadata.png'\n",
        "#)"
      ],
      "outputs": [
        {
          "output_type": "stream",
          "name": "stdout",
          "text": "{\n    \"columns\": {\n        \"ContractorId\": {\n            \"sdtype\": \"numerical\"\n        },\n        \"ContractorGUID\": {\n            \"sdtype\": \"categorical\"\n        },\n        \"ContractorSource\": {\n            \"sdtype\": \"categorical\"\n        },\n        \"ContractorSourceId\": {\n            \"sdtype\": \"numerical\"\n        },\n        \"FirstName\": {\n            \"sdtype\": \"first_name\",\n            \"pii\": true\n        },\n        \"LastName\": {\n            \"sdtype\": \"last_name\",\n            \"pii\": true\n        },\n        \"PhotoUrl\": {\n            \"sdtype\": \"categorical\"\n        },\n        \"Nationality\": {\n            \"sdtype\": \"numerical\"\n        },\n        \"BirthDay\": {\n            \"sdtype\": \"numerical\"\n        },\n        \"ContractorUpdated\": {\n            \"sdtype\": \"datetime\",\n            \"datetime_format\": \"%Y-%m-%d %H:%M:%S.%f\"\n        },\n        \"CompetenceId\": {\n            \"sdtype\": \"numerical\"\n        },\n        \"CompetenceGUID\": {\n            \"sdtype\": \"unknown\",\n            \"pii\": true\n        },\n        \"CompetenceSourceId\": {\n            \"sdtype\": \"unknown\",\n            \"pii\": true\n        },\n        \"CompetenceSource\": {\n            \"sdtype\": \"categorical\"\n        },\n        \"Acquired\": {\n            \"sdtype\": \"datetime\",\n            \"datetime_format\": \"%Y-%m-%d %H:%M:%S.%f\"\n        },\n        \"Expires\": {\n            \"sdtype\": \"unknown\",\n            \"pii\": true\n        },\n        \"Lang\": {\n            \"sdtype\": \"categorical\"\n        },\n        \"Qualification_Id\": {\n            \"sdtype\": \"numerical\"\n        },\n        \"Contractor_Id\": {\n            \"sdtype\": \"numerical\"\n        },\n        \"Created\": {\n            \"sdtype\": \"datetime\",\n            \"datetime_format\": \"%Y-%m-%d %H:%M:%S.%f\"\n        },\n        \"CreatedBy\": {\n            \"sdtype\": \"categorical\"\n        },\n        \"Modified\": {\n            \"sdtype\": \"numerical\"\n        },\n        \"ModifiedBy\": {\n            \"sdtype\": \"numerical\"\n        }\n    },\n    \"METADATA_SPEC_VERSION\": \"SINGLE_TABLE_V1\"\n}\n"
        }
      ],
      "execution_count": 66,
      "metadata": {
        "jupyter": {
          "source_hidden": false,
          "outputs_hidden": false
        },
        "nteract": {
          "transient": {
            "deleting": false
          }
        },
        "gather": {
          "logged": 1716316705073
        }
      }
    },
    {
      "cell_type": "code",
      "source": [
        "from sdv.datasets.local import load_csvs\n",
        "real_data_dict = load_csvs(\n",
        "    folder_name='data',\n",
        "    read_csv_parameters={\n",
        "        'skipinitialspace': True,\n",
        "        'encoding': 'utf_8'\n",
        "    })\n",
        "table_key = 'CompetenceContractorFullJoin'\n",
        "real_data = real_data_dict[table_key] #ingen aning om varför\n",
        "\n"
      ],
      "outputs": [
        {
          "output_type": "stream",
          "name": "stderr",
          "text": "/anaconda/envs/azureml_py310_sdkv2/lib/python3.10/site-packages/sdv/datasets/local.py:34: UserWarning: Ignoring incompatible files ['.amlignore', '.amlignore.amltmp'] in folder 'data'.\n  warnings.warn(\n"
        }
      ],
      "execution_count": 67,
      "metadata": {
        "jupyter": {
          "source_hidden": false,
          "outputs_hidden": false
        },
        "nteract": {
          "transient": {
            "deleting": false
          }
        },
        "gather": {
          "logged": 1716316712893
        }
      }
    },
    {
      "cell_type": "code",
      "source": [
        "from sdv.single_table import CTGANSynthesizer\n",
        "synthesizer = CTGANSynthesizer(metadata)\n",
        "\n",
        "synthesizer.fit(real_data)\n"
      ],
      "outputs": [
        {
          "output_type": "stream",
          "name": "stderr",
          "text": "/anaconda/envs/azureml_py310_sdkv2/lib/python3.10/site-packages/sdv/single_table/base.py:80: UserWarning: We strongly recommend saving the metadata using 'save_to_json' for replicability in future SDV versions.\n  warnings.warn(\n"
        }
      ],
      "execution_count": 68,
      "metadata": {
        "jupyter": {
          "source_hidden": false,
          "outputs_hidden": false
        },
        "nteract": {
          "transient": {
            "deleting": false
          }
        },
        "gather": {
          "logged": 1716316777936
        }
      }
    },
    {
      "cell_type": "code",
      "source": [
        "synthesizer.get_transformers()"
      ],
      "outputs": [
        {
          "output_type": "execute_result",
          "execution_count": 6,
          "data": {
            "text/plain": "{'ContractorId': FloatFormatter(learn_rounding_scheme=True, enforce_min_max_values=True),\n 'ContractorGUID': None,\n 'ContractorSource': None,\n 'ContractorSourceId': FloatFormatter(learn_rounding_scheme=True, enforce_min_max_values=True),\n 'FirstName': AnonymizedFaker(provider_name='person', function_name='first_name', locales=['en_US']),\n 'LastName': AnonymizedFaker(provider_name='person', function_name='last_name', locales=['en_US']),\n 'PhotoUrl': None,\n 'Nationality': FloatFormatter(learn_rounding_scheme=True, enforce_min_max_values=True),\n 'BirthDay': FloatFormatter(learn_rounding_scheme=True, enforce_min_max_values=True),\n 'ContractorUpdated': UnixTimestampEncoder(datetime_format='%Y-%m-%d %H:%M:%S.%f', enforce_min_max_values=True),\n 'CompetenceId': IDGenerator(),\n 'CompetenceGUID': AnonymizedFaker(function_name='bothify', function_kwargs={'text': 'sdv-pii-?????', 'letters': '0123456789abcdefghijklmnopqrstuvwxyz'}),\n 'CompetenceSourceId': AnonymizedFaker(function_name='bothify', function_kwargs={'text': 'sdv-pii-?????', 'letters': '0123456789abcdefghijklmnopqrstuvwxyz'}),\n 'CompetenceSource': None,\n 'Acquired': UnixTimestampEncoder(datetime_format='%Y-%m-%d %H:%M:%S.%f', enforce_min_max_values=True),\n 'Expires': AnonymizedFaker(function_name='bothify', function_kwargs={'text': 'sdv-pii-?????', 'letters': '0123456789abcdefghijklmnopqrstuvwxyz'}),\n 'Lang': None,\n 'Qualification_Id': FloatFormatter(learn_rounding_scheme=True, enforce_min_max_values=True),\n 'Contractor_Id': FloatFormatter(learn_rounding_scheme=True, enforce_min_max_values=True),\n 'Created': UnixTimestampEncoder(datetime_format='%Y-%m-%d %H:%M:%S.%f', enforce_min_max_values=True),\n 'CreatedBy': None,\n 'Modified': FloatFormatter(learn_rounding_scheme=True, enforce_min_max_values=True),\n 'ModifiedBy': FloatFormatter(learn_rounding_scheme=True, enforce_min_max_values=True)}"
          },
          "metadata": {}
        }
      ],
      "execution_count": 6,
      "metadata": {
        "jupyter": {
          "source_hidden": false,
          "outputs_hidden": false
        },
        "nteract": {
          "transient": {
            "deleting": false
          }
        },
        "gather": {
          "logged": 1714981928467
        }
      }
    },
    {
      "cell_type": "code",
      "source": [
        "synthetic_data = synthesizer.sample(num_rows=100)\n",
        "synthetic_data.head()\n"
      ],
      "outputs": [
        {
          "output_type": "execute_result",
          "execution_count": 74,
          "data": {
            "text/plain": "   ContractorId                        ContractorGUID  ContractorSource  \\\n0        405485  21c5119d-e8a1-43ec-a7a0-0045b1a98ae1                 0   \n1        405337  967858cc-5e00-474d-9b7c-003fcc428dc8                 0   \n2        405464  53dab2b6-5d3b-4b95-9638-0002199a45cb                 0   \n3        405459  e3e9ef2a-ebe2-40fd-8bf9-00c2ebab46d7                 0   \n4        405494  bb84a135-9a57-4bbf-afa8-0094f376a11b                 0   \n\n   ContractorSourceId FirstName   LastName  \\\n0              214612      Jill     Garcia   \n1               52440    Ronald    Simmons   \n2              148890   Rebecca  Hernandez   \n3              210365    Andrew   Anderson   \n4                6253   Abigail    Proctor   \n\n                                            PhotoUrl  Nationality  BirthDay  \\\n0  https://ssgcardissuestaging.blob.core.windows....          NaN       NaN   \n1  https://ssgcardissuestaging.blob.core.windows....          NaN       NaN   \n2  https://ssgcardissuestaging.blob.core.windows....          NaN       NaN   \n3  https://ssgcardissuestaging.blob.core.windows....          NaN       NaN   \n4  https://ssgcardissuestaging.blob.core.windows....          NaN       NaN   \n\n            ContractorUpdated  ...  CompetenceSource  \\\n0  2023-09-20 15:18:29.192236  ...               NaN   \n1  2023-09-20 15:18:29.192236  ...               Ssg   \n2  2023-09-20 15:18:29.192236  ...               Ssg   \n3  2023-09-20 15:18:29.192236  ...               Ssg   \n4  2023-09-30 21:18:54.301026  ...               Ssg   \n\n                     Acquired        Expires  Lang Qualification_Id  \\\n0  2014-11-25 17:00:28.757724  sdv-pii-qh1w2   NaN             31.0   \n1  2013-03-20 20:07:19.370738  sdv-pii-crxx8   NaN            135.0   \n2  2017-12-11 03:24:46.858807  sdv-pii-bxsv1  46.0            194.0   \n3  2019-07-19 11:56:11.528611  sdv-pii-gpazd  46.0            199.0   \n4  2019-11-25 07:52:51.492999  sdv-pii-rpd66  44.0            454.0   \n\n  Contractor_Id                     Created          CreatedBy  Modified  \\\n0      405374.0  2023-09-20 17:45:33.050339  siteaccesscontrol       NaN   \n1      405453.0  2023-09-20 19:26:33.979373  siteaccesscontrol       NaN   \n2      405425.0  2023-09-20 20:00:29.616774  siteaccesscontrol       NaN   \n3      405330.0  2023-09-20 18:14:56.465353  siteaccesscontrol       NaN   \n4      405375.0  2023-09-20 20:26:37.192335  siteaccesscontrol       NaN   \n\n  ModifiedBy  \n0        NaN  \n1        NaN  \n2        NaN  \n3        NaN  \n4        NaN  \n\n[5 rows x 23 columns]",
            "text/html": "<div>\n<style scoped>\n    .dataframe tbody tr th:only-of-type {\n        vertical-align: middle;\n    }\n\n    .dataframe tbody tr th {\n        vertical-align: top;\n    }\n\n    .dataframe thead th {\n        text-align: right;\n    }\n</style>\n<table border=\"1\" class=\"dataframe\">\n  <thead>\n    <tr style=\"text-align: right;\">\n      <th></th>\n      <th>ContractorId</th>\n      <th>ContractorGUID</th>\n      <th>ContractorSource</th>\n      <th>ContractorSourceId</th>\n      <th>FirstName</th>\n      <th>LastName</th>\n      <th>PhotoUrl</th>\n      <th>Nationality</th>\n      <th>BirthDay</th>\n      <th>ContractorUpdated</th>\n      <th>...</th>\n      <th>CompetenceSource</th>\n      <th>Acquired</th>\n      <th>Expires</th>\n      <th>Lang</th>\n      <th>Qualification_Id</th>\n      <th>Contractor_Id</th>\n      <th>Created</th>\n      <th>CreatedBy</th>\n      <th>Modified</th>\n      <th>ModifiedBy</th>\n    </tr>\n  </thead>\n  <tbody>\n    <tr>\n      <th>0</th>\n      <td>405485</td>\n      <td>21c5119d-e8a1-43ec-a7a0-0045b1a98ae1</td>\n      <td>0</td>\n      <td>214612</td>\n      <td>Jill</td>\n      <td>Garcia</td>\n      <td>https://ssgcardissuestaging.blob.core.windows....</td>\n      <td>NaN</td>\n      <td>NaN</td>\n      <td>2023-09-20 15:18:29.192236</td>\n      <td>...</td>\n      <td>NaN</td>\n      <td>2014-11-25 17:00:28.757724</td>\n      <td>sdv-pii-qh1w2</td>\n      <td>NaN</td>\n      <td>31.0</td>\n      <td>405374.0</td>\n      <td>2023-09-20 17:45:33.050339</td>\n      <td>siteaccesscontrol</td>\n      <td>NaN</td>\n      <td>NaN</td>\n    </tr>\n    <tr>\n      <th>1</th>\n      <td>405337</td>\n      <td>967858cc-5e00-474d-9b7c-003fcc428dc8</td>\n      <td>0</td>\n      <td>52440</td>\n      <td>Ronald</td>\n      <td>Simmons</td>\n      <td>https://ssgcardissuestaging.blob.core.windows....</td>\n      <td>NaN</td>\n      <td>NaN</td>\n      <td>2023-09-20 15:18:29.192236</td>\n      <td>...</td>\n      <td>Ssg</td>\n      <td>2013-03-20 20:07:19.370738</td>\n      <td>sdv-pii-crxx8</td>\n      <td>NaN</td>\n      <td>135.0</td>\n      <td>405453.0</td>\n      <td>2023-09-20 19:26:33.979373</td>\n      <td>siteaccesscontrol</td>\n      <td>NaN</td>\n      <td>NaN</td>\n    </tr>\n    <tr>\n      <th>2</th>\n      <td>405464</td>\n      <td>53dab2b6-5d3b-4b95-9638-0002199a45cb</td>\n      <td>0</td>\n      <td>148890</td>\n      <td>Rebecca</td>\n      <td>Hernandez</td>\n      <td>https://ssgcardissuestaging.blob.core.windows....</td>\n      <td>NaN</td>\n      <td>NaN</td>\n      <td>2023-09-20 15:18:29.192236</td>\n      <td>...</td>\n      <td>Ssg</td>\n      <td>2017-12-11 03:24:46.858807</td>\n      <td>sdv-pii-bxsv1</td>\n      <td>46.0</td>\n      <td>194.0</td>\n      <td>405425.0</td>\n      <td>2023-09-20 20:00:29.616774</td>\n      <td>siteaccesscontrol</td>\n      <td>NaN</td>\n      <td>NaN</td>\n    </tr>\n    <tr>\n      <th>3</th>\n      <td>405459</td>\n      <td>e3e9ef2a-ebe2-40fd-8bf9-00c2ebab46d7</td>\n      <td>0</td>\n      <td>210365</td>\n      <td>Andrew</td>\n      <td>Anderson</td>\n      <td>https://ssgcardissuestaging.blob.core.windows....</td>\n      <td>NaN</td>\n      <td>NaN</td>\n      <td>2023-09-20 15:18:29.192236</td>\n      <td>...</td>\n      <td>Ssg</td>\n      <td>2019-07-19 11:56:11.528611</td>\n      <td>sdv-pii-gpazd</td>\n      <td>46.0</td>\n      <td>199.0</td>\n      <td>405330.0</td>\n      <td>2023-09-20 18:14:56.465353</td>\n      <td>siteaccesscontrol</td>\n      <td>NaN</td>\n      <td>NaN</td>\n    </tr>\n    <tr>\n      <th>4</th>\n      <td>405494</td>\n      <td>bb84a135-9a57-4bbf-afa8-0094f376a11b</td>\n      <td>0</td>\n      <td>6253</td>\n      <td>Abigail</td>\n      <td>Proctor</td>\n      <td>https://ssgcardissuestaging.blob.core.windows....</td>\n      <td>NaN</td>\n      <td>NaN</td>\n      <td>2023-09-30 21:18:54.301026</td>\n      <td>...</td>\n      <td>Ssg</td>\n      <td>2019-11-25 07:52:51.492999</td>\n      <td>sdv-pii-rpd66</td>\n      <td>44.0</td>\n      <td>454.0</td>\n      <td>405375.0</td>\n      <td>2023-09-20 20:26:37.192335</td>\n      <td>siteaccesscontrol</td>\n      <td>NaN</td>\n      <td>NaN</td>\n    </tr>\n  </tbody>\n</table>\n<p>5 rows × 23 columns</p>\n</div>"
          },
          "metadata": {}
        }
      ],
      "execution_count": 74,
      "metadata": {
        "jupyter": {
          "source_hidden": false,
          "outputs_hidden": false
        },
        "nteract": {
          "transient": {
            "deleting": false
          }
        },
        "gather": {
          "logged": 1716316819361
        }
      }
    },
    {
      "cell_type": "code",
      "source": [
        "synthetic_data.to_csv('synthetic_data.csv', index=False)"
      ],
      "outputs": [],
      "execution_count": 75,
      "metadata": {
        "jupyter": {
          "source_hidden": false,
          "outputs_hidden": false
        },
        "nteract": {
          "transient": {
            "deleting": false
          }
        },
        "gather": {
          "logged": 1716316862409
        }
      }
    },
    {
      "cell_type": "code",
      "source": [
        "from sdv.evaluation.single_table import run_diagnostic\n",
        "\n",
        "diagnostic = run_diagnostic(\n",
        "    real_data=real_data,\n",
        "    synthetic_data=synthetic_data,\n",
        "    metadata=metadata\n",
        ")"
      ],
      "outputs": [
        {
          "output_type": "stream",
          "name": "stdout",
          "text": "Generating report ...\n(1/2) Evaluating Data Validity: : 100%|██████████| 23/23 [00:00<00:00, 1140.04it/s]\n(2/2) Evaluating Data Structure: : 100%|██████████| 1/1 [00:00<00:00, 486.07it/s]\n\nOverall Score: 99.61%\n\nProperties:\n- Data Validity: 99.21%\n- Data Structure: 100.0%\n"
        },
        {
          "output_type": "stream",
          "name": "stderr",
          "text": "/anaconda/envs/azureml_py310_sdkv2/lib/python3.10/site-packages/sdmetrics/single_column/statistical/boundary_adherence.py:58: RuntimeWarning: invalid value encountered in long_scalars\n  return valid.sum() / len(synthetic_data)\n"
        }
      ],
      "execution_count": 73,
      "metadata": {
        "jupyter": {
          "source_hidden": false,
          "outputs_hidden": false
        },
        "nteract": {
          "transient": {
            "deleting": false
          }
        },
        "gather": {
          "logged": 1715158235091
        }
      }
    },
    {
      "cell_type": "code",
      "source": [
        "from sdv.evaluation.single_table import evaluate_quality\n",
        "\n",
        "quality_report = evaluate_quality(\n",
        "    real_data,\n",
        "    synthetic_data,\n",
        "    metadata\n",
        ")"
      ],
      "outputs": [
        {
          "output_type": "stream",
          "name": "stdout",
          "text": "Generating report ...\n(1/2) Evaluating Column Shapes: : 100%|██████████| 23/23 [00:00<00:00, 1852.61it/s]\n(2/2) Evaluating Column Pair Trends: : 100%|██████████| 253/253 [00:01<00:00, 140.27it/s]\n\nOverall Score: 80.04%\n\nProperties:\n- Column Shapes: 82.85%\n- Column Pair Trends: 77.23%\n"
        }
      ],
      "execution_count": 74,
      "metadata": {
        "jupyter": {
          "source_hidden": false,
          "outputs_hidden": false
        },
        "nteract": {
          "transient": {
            "deleting": false
          }
        },
        "gather": {
          "logged": 1715158286225
        }
      }
    },
    {
      "cell_type": "code",
      "source": [
        "quality_report.get_details('Column Shapes')"
      ],
      "outputs": [
        {
          "output_type": "execute_result",
          "execution_count": 16,
          "data": {
            "text/plain": "                Column        Metric  Score  \\\n0         ContractorId  KSComplement   0.73   \n1       ContractorGUID  TVComplement   0.87   \n2     ContractorSource  TVComplement   1.00   \n3   ContractorSourceId  KSComplement   0.80   \n4             PhotoUrl  TVComplement   0.94   \n5          Nationality  KSComplement    NaN   \n6             BirthDay  KSComplement    NaN   \n7    ContractorUpdated  KSComplement   0.56   \n8     CompetenceSource  TVComplement   1.00   \n9             Acquired  KSComplement   0.83   \n10                Lang  TVComplement   1.00   \n11    Qualification_Id  KSComplement   0.74   \n12       Contractor_Id  KSComplement   0.69   \n13             Created  KSComplement   0.81   \n14           CreatedBy  TVComplement   1.00   \n15            Modified  KSComplement    NaN   \n16          ModifiedBy  KSComplement    NaN   \n\n                                                Error  \n0                                                None  \n1                                                None  \n2                                                None  \n3                                                None  \n4                                                None  \n5   ValueError: Data passed to ks_2samp must not b...  \n6   ValueError: Data passed to ks_2samp must not b...  \n7                                                None  \n8                                                None  \n9                                                None  \n10                                               None  \n11                                               None  \n12                                               None  \n13                                               None  \n14                                               None  \n15  ValueError: Data passed to ks_2samp must not b...  \n16  ValueError: Data passed to ks_2samp must not b...  ",
            "text/html": "<div>\n<style scoped>\n    .dataframe tbody tr th:only-of-type {\n        vertical-align: middle;\n    }\n\n    .dataframe tbody tr th {\n        vertical-align: top;\n    }\n\n    .dataframe thead th {\n        text-align: right;\n    }\n</style>\n<table border=\"1\" class=\"dataframe\">\n  <thead>\n    <tr style=\"text-align: right;\">\n      <th></th>\n      <th>Column</th>\n      <th>Metric</th>\n      <th>Score</th>\n      <th>Error</th>\n    </tr>\n  </thead>\n  <tbody>\n    <tr>\n      <th>0</th>\n      <td>ContractorId</td>\n      <td>KSComplement</td>\n      <td>0.73</td>\n      <td>None</td>\n    </tr>\n    <tr>\n      <th>1</th>\n      <td>ContractorGUID</td>\n      <td>TVComplement</td>\n      <td>0.87</td>\n      <td>None</td>\n    </tr>\n    <tr>\n      <th>2</th>\n      <td>ContractorSource</td>\n      <td>TVComplement</td>\n      <td>1.00</td>\n      <td>None</td>\n    </tr>\n    <tr>\n      <th>3</th>\n      <td>ContractorSourceId</td>\n      <td>KSComplement</td>\n      <td>0.80</td>\n      <td>None</td>\n    </tr>\n    <tr>\n      <th>4</th>\n      <td>PhotoUrl</td>\n      <td>TVComplement</td>\n      <td>0.94</td>\n      <td>None</td>\n    </tr>\n    <tr>\n      <th>5</th>\n      <td>Nationality</td>\n      <td>KSComplement</td>\n      <td>NaN</td>\n      <td>ValueError: Data passed to ks_2samp must not b...</td>\n    </tr>\n    <tr>\n      <th>6</th>\n      <td>BirthDay</td>\n      <td>KSComplement</td>\n      <td>NaN</td>\n      <td>ValueError: Data passed to ks_2samp must not b...</td>\n    </tr>\n    <tr>\n      <th>7</th>\n      <td>ContractorUpdated</td>\n      <td>KSComplement</td>\n      <td>0.56</td>\n      <td>None</td>\n    </tr>\n    <tr>\n      <th>8</th>\n      <td>CompetenceSource</td>\n      <td>TVComplement</td>\n      <td>1.00</td>\n      <td>None</td>\n    </tr>\n    <tr>\n      <th>9</th>\n      <td>Acquired</td>\n      <td>KSComplement</td>\n      <td>0.83</td>\n      <td>None</td>\n    </tr>\n    <tr>\n      <th>10</th>\n      <td>Lang</td>\n      <td>TVComplement</td>\n      <td>1.00</td>\n      <td>None</td>\n    </tr>\n    <tr>\n      <th>11</th>\n      <td>Qualification_Id</td>\n      <td>KSComplement</td>\n      <td>0.74</td>\n      <td>None</td>\n    </tr>\n    <tr>\n      <th>12</th>\n      <td>Contractor_Id</td>\n      <td>KSComplement</td>\n      <td>0.69</td>\n      <td>None</td>\n    </tr>\n    <tr>\n      <th>13</th>\n      <td>Created</td>\n      <td>KSComplement</td>\n      <td>0.81</td>\n      <td>None</td>\n    </tr>\n    <tr>\n      <th>14</th>\n      <td>CreatedBy</td>\n      <td>TVComplement</td>\n      <td>1.00</td>\n      <td>None</td>\n    </tr>\n    <tr>\n      <th>15</th>\n      <td>Modified</td>\n      <td>KSComplement</td>\n      <td>NaN</td>\n      <td>ValueError: Data passed to ks_2samp must not b...</td>\n    </tr>\n    <tr>\n      <th>16</th>\n      <td>ModifiedBy</td>\n      <td>KSComplement</td>\n      <td>NaN</td>\n      <td>ValueError: Data passed to ks_2samp must not b...</td>\n    </tr>\n  </tbody>\n</table>\n</div>"
          },
          "metadata": {}
        }
      ],
      "execution_count": 16,
      "metadata": {
        "jupyter": {
          "source_hidden": false,
          "outputs_hidden": false
        },
        "nteract": {
          "transient": {
            "deleting": false
          }
        },
        "gather": {
          "logged": 1715149563310
        }
      }
    },
    {
      "cell_type": "code",
      "source": [],
      "outputs": [],
      "execution_count": null,
      "metadata": {
        "jupyter": {
          "source_hidden": false,
          "outputs_hidden": false
        },
        "nteract": {
          "transient": {
            "deleting": false
          }
        }
      }
    },
    {
      "cell_type": "code",
      "source": [
        "import pandas as pd\n",
        "import uuid\n",
        "from datetime import timedelta\n",
        "\n",
        "\n",
        "synthetic_data = pd.read_csv('synthetic_data.csv')\n",
        "\n",
        "\n",
        "competence_columns = [\n",
        "    'CompetenceId', 'CompetenceGUID', 'CompetenceSourceId', 'CompetenceSource',\n",
        "    'Acquired', 'Expires', 'Lang', 'Qualification_Id', 'Contractor_Id', 'Created',\n",
        "    'CreatedBy', 'Modified', 'ModifiedBy'\n",
        "]\n",
        "\n",
        "contractor_columns = [\n",
        "    'ContractorId', 'ContractorGUID', 'ContractorSource', 'ContractorSourceId',\n",
        "    'FirstName', 'LastName', 'PhotoUrl', 'Nationality', 'BirthDay', 'ContractorUpdated'\n",
        "]\n",
        "\n",
        "competence_data = synthetic_data[competence_columns].rename(columns={\n",
        "    'CompetenceId': 'Id',\n",
        "    'CompetenceGUID': 'CompetenceId',\n",
        "    'CompetenceSourceId': 'SourceId',\n",
        "    'CompetenceSource': 'Source'\n",
        "})\n",
        "\n",
        "contractor_data = synthetic_data[contractor_columns].rename(columns={\n",
        "    'ContractorId': 'Id',\n",
        "    'ContractorGUID' : 'ContractorID',\n",
        "    'ContractorSource': 'Source',\n",
        "    'ContractorSourceId': 'SourceId'\n",
        "})\n"
      ],
      "outputs": [],
      "execution_count": 76,
      "metadata": {
        "jupyter": {
          "source_hidden": false,
          "outputs_hidden": false
        },
        "nteract": {
          "transient": {
            "deleting": false
          }
        },
        "gather": {
          "logged": 1716316867394
        }
      }
    },
    {
      "cell_type": "code",
      "source": [
        "def format_columns_as_uuids(table, column_names):\n",
        "    for column in column_names:\n",
        "        table[column] = [str(uuid.uuid4()) for _ in range(len(table))]\n",
        "    return table\n",
        "\n",
        "competence_data = format_columns_as_uuids(competence_data, [ 'SourceId'])\n",
        "competence_data = format_columns_as_uuids(competence_data, ['CompetenceId'])\n",
        "contractor_data = format_columns_as_uuids(contractor_data, ['ContractorId', 'SourceId'])\n",
        "\n",
        "competence_data['Acquired'] = pd.to_datetime(competence_data['Acquired'])\n",
        "\n",
        "competence_data['Expires'] = competence_data['Acquired'] + pd.DateOffset(years=2)\n",
        "\n",
        "contractor_data['BirthDay'] = 'NULL'\n",
        "competence_data['Modified'] = 'NULL'\n",
        "competence_data['ModifiedBy'] = 'NULL'\n",
        "\n",
        "competence_data['CreatedBy'] = 'CTGAN'\n",
        "contractor_data['PhotoUrl'] = 'CTGAN'"
      ],
      "outputs": [],
      "execution_count": 77,
      "metadata": {
        "jupyter": {
          "source_hidden": false,
          "outputs_hidden": false
        },
        "nteract": {
          "transient": {
            "deleting": false
          }
        },
        "gather": {
          "logged": 1716316872468
        }
      }
    },
    {
      "cell_type": "code",
      "source": [
        "\n",
        "contractor_data.head(3)"
      ],
      "outputs": [
        {
          "output_type": "execute_result",
          "execution_count": 64,
          "data": {
            "text/plain": "       Id                          ContractorID  Source  \\\n0  406984  04379f5a-4042-495c-b558-06b3100cff44       0   \n1  406309  30a7feb5-ba6c-4284-813e-053b9935b748       0   \n2  405729  ce9b421f-e7fc-4ef7-b2e0-05f57dfe1c26       0   \n\n                               SourceId FirstName  LastName PhotoUrl  \\\n0  b5006490-a5e4-461e-9dd4-a47ab505c567   Crystal  Martinez    CTGAN   \n1  f1da01b5-adaf-48a3-a265-f47f470cd41e    Rachel  Erickson    CTGAN   \n2  4255be15-72b4-4a67-a220-f51f19b120e8   Antonio  Cisneros    CTGAN   \n\n  Nationality BirthDay           ContractorUpdated  \\\n0         NaN     NULL  2023-09-20 15:18:29.192236   \n1         NaN     NULL  2023-09-20 15:18:29.192236   \n2         NaN     NULL  2023-09-20 15:18:29.192236   \n\n                           ContractorId  \n0  ded51f0d-7844-4ec3-97ea-454c5bd19793  \n1  c63f39db-20df-4b2c-aa2e-b339b28d7904  \n2  673d8281-509c-4a0f-b72d-c569e95e3c5d  ",
            "text/html": "<div>\n<style scoped>\n    .dataframe tbody tr th:only-of-type {\n        vertical-align: middle;\n    }\n\n    .dataframe tbody tr th {\n        vertical-align: top;\n    }\n\n    .dataframe thead th {\n        text-align: right;\n    }\n</style>\n<table border=\"1\" class=\"dataframe\">\n  <thead>\n    <tr style=\"text-align: right;\">\n      <th></th>\n      <th>Id</th>\n      <th>ContractorID</th>\n      <th>Source</th>\n      <th>SourceId</th>\n      <th>FirstName</th>\n      <th>LastName</th>\n      <th>PhotoUrl</th>\n      <th>Nationality</th>\n      <th>BirthDay</th>\n      <th>ContractorUpdated</th>\n      <th>ContractorId</th>\n    </tr>\n  </thead>\n  <tbody>\n    <tr>\n      <th>0</th>\n      <td>406984</td>\n      <td>04379f5a-4042-495c-b558-06b3100cff44</td>\n      <td>0</td>\n      <td>b5006490-a5e4-461e-9dd4-a47ab505c567</td>\n      <td>Crystal</td>\n      <td>Martinez</td>\n      <td>CTGAN</td>\n      <td>NaN</td>\n      <td>NULL</td>\n      <td>2023-09-20 15:18:29.192236</td>\n      <td>ded51f0d-7844-4ec3-97ea-454c5bd19793</td>\n    </tr>\n    <tr>\n      <th>1</th>\n      <td>406309</td>\n      <td>30a7feb5-ba6c-4284-813e-053b9935b748</td>\n      <td>0</td>\n      <td>f1da01b5-adaf-48a3-a265-f47f470cd41e</td>\n      <td>Rachel</td>\n      <td>Erickson</td>\n      <td>CTGAN</td>\n      <td>NaN</td>\n      <td>NULL</td>\n      <td>2023-09-20 15:18:29.192236</td>\n      <td>c63f39db-20df-4b2c-aa2e-b339b28d7904</td>\n    </tr>\n    <tr>\n      <th>2</th>\n      <td>405729</td>\n      <td>ce9b421f-e7fc-4ef7-b2e0-05f57dfe1c26</td>\n      <td>0</td>\n      <td>4255be15-72b4-4a67-a220-f51f19b120e8</td>\n      <td>Antonio</td>\n      <td>Cisneros</td>\n      <td>CTGAN</td>\n      <td>NaN</td>\n      <td>NULL</td>\n      <td>2023-09-20 15:18:29.192236</td>\n      <td>673d8281-509c-4a0f-b72d-c569e95e3c5d</td>\n    </tr>\n  </tbody>\n</table>\n</div>"
          },
          "metadata": {}
        }
      ],
      "execution_count": 64,
      "metadata": {
        "jupyter": {
          "source_hidden": false,
          "outputs_hidden": false
        },
        "nteract": {
          "transient": {
            "deleting": false
          }
        },
        "gather": {
          "logged": 1716316612899
        }
      }
    },
    {
      "cell_type": "code",
      "source": [
        "competence_data.to_csv('competence_CTGANdata_1000_100.csv', index=False)\n",
        "contractor_data.to_csv('contractor_CTGANdata_1000_100.csv', index=False)"
      ],
      "outputs": [],
      "execution_count": 79,
      "metadata": {
        "jupyter": {
          "source_hidden": false,
          "outputs_hidden": false
        },
        "nteract": {
          "transient": {
            "deleting": false
          }
        },
        "gather": {
          "logged": 1716316897115
        }
      }
    }
  ],
  "metadata": {
    "kernelspec": {
      "name": "python310-sdkv2",
      "language": "python",
      "display_name": "Python 3.10 - SDK v2"
    },
    "language_info": {
      "name": "python",
      "version": "3.10.11",
      "mimetype": "text/x-python",
      "codemirror_mode": {
        "name": "ipython",
        "version": 3
      },
      "pygments_lexer": "ipython3",
      "nbconvert_exporter": "python",
      "file_extension": ".py"
    },
    "microsoft": {
      "ms_spell_check": {
        "ms_spell_check_language": "en"
      },
      "host": {
        "AzureML": {
          "notebookHasBeenCompleted": true
        }
      }
    },
    "kernel_info": {
      "name": "python310-sdkv2"
    },
    "nteract": {
      "version": "nteract-front-end@1.0.0"
    }
  },
  "nbformat": 4,
  "nbformat_minor": 2
}