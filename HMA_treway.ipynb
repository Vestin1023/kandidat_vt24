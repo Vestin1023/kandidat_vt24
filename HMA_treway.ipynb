{
  "cells": [
    {
      "cell_type": "code",
      "source": [
        "%pip install SDV"
      ],
      "outputs": [
        {
          "output_type": "stream",
          "name": "stdout",
          "text": "Requirement already satisfied: SDV in /anaconda/envs/azureml_py310_sdkv2/lib/python3.10/site-packages (1.11.0)\nRequirement already satisfied: boto3<2,>=1.15.0 in /anaconda/envs/azureml_py310_sdkv2/lib/python3.10/site-packages (from SDV) (1.34.82)\nRequirement already satisfied: botocore<2,>=1.18 in /anaconda/envs/azureml_py310_sdkv2/lib/python3.10/site-packages (from SDV) (1.34.82)\nRequirement already satisfied: cloudpickle<3.0,>=2.1.0 in /anaconda/envs/azureml_py310_sdkv2/lib/python3.10/site-packages (from SDV) (2.2.1)\nRequirement already satisfied: graphviz<1,>=0.13.2 in /anaconda/envs/azureml_py310_sdkv2/lib/python3.10/site-packages (from SDV) (0.20.3)\nRequirement already satisfied: tqdm<5,>=4.15 in /anaconda/envs/azureml_py310_sdkv2/lib/python3.10/site-packages (from SDV) (4.65.0)\nRequirement already satisfied: copulas<0.10,>=0.9.0 in /anaconda/envs/azureml_py310_sdkv2/lib/python3.10/site-packages (from SDV) (0.9.2)\nRequirement already satisfied: ctgan<0.10,>=0.9.0 in /anaconda/envs/azureml_py310_sdkv2/lib/python3.10/site-packages (from SDV) (0.9.1)\nRequirement already satisfied: deepecho<0.6,>=0.5 in /anaconda/envs/azureml_py310_sdkv2/lib/python3.10/site-packages (from SDV) (0.5.0)\nRequirement already satisfied: rdt<2,>=1.10.0 in /anaconda/envs/azureml_py310_sdkv2/lib/python3.10/site-packages (from SDV) (1.11.0)\nRequirement already satisfied: sdmetrics<0.14,>=0.13.0 in /anaconda/envs/azureml_py310_sdkv2/lib/python3.10/site-packages (from SDV) (0.13.0)\nRequirement already satisfied: numpy<2,>=1.23.3 in /anaconda/envs/azureml_py310_sdkv2/lib/python3.10/site-packages (from SDV) (1.23.5)\nRequirement already satisfied: pandas>=1.3.4 in /anaconda/envs/azureml_py310_sdkv2/lib/python3.10/site-packages (from SDV) (2.0.2)\nRequirement already satisfied: jmespath<2.0.0,>=0.7.1 in /anaconda/envs/azureml_py310_sdkv2/lib/python3.10/site-packages (from boto3<2,>=1.15.0->SDV) (1.0.1)\nRequirement already satisfied: s3transfer<0.11.0,>=0.10.0 in /anaconda/envs/azureml_py310_sdkv2/lib/python3.10/site-packages (from boto3<2,>=1.15.0->SDV) (0.10.1)\nRequirement already satisfied: python-dateutil<3.0.0,>=2.1 in /anaconda/envs/azureml_py310_sdkv2/lib/python3.10/site-packages (from botocore<2,>=1.18->SDV) (2.8.2)\nRequirement already satisfied: urllib3!=2.2.0,<3,>=1.25.4 in /anaconda/envs/azureml_py310_sdkv2/lib/python3.10/site-packages (from botocore<2,>=1.18->SDV) (2.2.1)\nRequirement already satisfied: matplotlib<4,>=3.6.0 in /anaconda/envs/azureml_py310_sdkv2/lib/python3.10/site-packages (from copulas<0.10,>=0.9.0->SDV) (3.7.1)\nRequirement already satisfied: scipy<2,>=1.9.2 in /anaconda/envs/azureml_py310_sdkv2/lib/python3.10/site-packages (from copulas<0.10,>=0.9.0->SDV) (1.10.1)\nRequirement already satisfied: scikit-learn>=1.1.3 in /anaconda/envs/azureml_py310_sdkv2/lib/python3.10/site-packages (from ctgan<0.10,>=0.9.0->SDV) (1.2.2)\nRequirement already satisfied: torch>=1.11.0 in /anaconda/envs/azureml_py310_sdkv2/lib/python3.10/site-packages (from ctgan<0.10,>=0.9.0->SDV) (2.2.2)\nRequirement already satisfied: pytz>=2020.1 in /anaconda/envs/azureml_py310_sdkv2/lib/python3.10/site-packages (from pandas>=1.3.4->SDV) (2023.3)\nRequirement already satisfied: tzdata>=2022.1 in /anaconda/envs/azureml_py310_sdkv2/lib/python3.10/site-packages (from pandas>=1.3.4->SDV) (2023.3)\nRequirement already satisfied: Faker>=17 in /anaconda/envs/azureml_py310_sdkv2/lib/python3.10/site-packages (from rdt<2,>=1.10.0->SDV) (24.8.0)\nRequirement already satisfied: plotly<6,>=5.10.0 in /anaconda/envs/azureml_py310_sdkv2/lib/python3.10/site-packages (from sdmetrics<0.14,>=0.13.0->SDV) (5.20.0)\nRequirement already satisfied: contourpy>=1.0.1 in /anaconda/envs/azureml_py310_sdkv2/lib/python3.10/site-packages (from matplotlib<4,>=3.6.0->copulas<0.10,>=0.9.0->SDV) (1.1.0)\nRequirement already satisfied: cycler>=0.10 in /anaconda/envs/azureml_py310_sdkv2/lib/python3.10/site-packages (from matplotlib<4,>=3.6.0->copulas<0.10,>=0.9.0->SDV) (0.11.0)\nRequirement already satisfied: fonttools>=4.22.0 in /anaconda/envs/azureml_py310_sdkv2/lib/python3.10/site-packages (from matplotlib<4,>=3.6.0->copulas<0.10,>=0.9.0->SDV) (4.40.0)\nRequirement already satisfied: kiwisolver>=1.0.1 in /anaconda/envs/azureml_py310_sdkv2/lib/python3.10/site-packages (from matplotlib<4,>=3.6.0->copulas<0.10,>=0.9.0->SDV) (1.4.4)\nRequirement already satisfied: packaging>=20.0 in /anaconda/envs/azureml_py310_sdkv2/lib/python3.10/site-packages (from matplotlib<4,>=3.6.0->copulas<0.10,>=0.9.0->SDV) (23.0)\nRequirement already satisfied: pillow>=6.2.0 in /anaconda/envs/azureml_py310_sdkv2/lib/python3.10/site-packages (from matplotlib<4,>=3.6.0->copulas<0.10,>=0.9.0->SDV) (9.5.0)\nRequirement already satisfied: pyparsing>=2.3.1 in /anaconda/envs/azureml_py310_sdkv2/lib/python3.10/site-packages (from matplotlib<4,>=3.6.0->copulas<0.10,>=0.9.0->SDV) (3.1.0)\nRequirement already satisfied: tenacity>=6.2.0 in /anaconda/envs/azureml_py310_sdkv2/lib/python3.10/site-packages (from plotly<6,>=5.10.0->sdmetrics<0.14,>=0.13.0->SDV) (8.2.3)\nRequirement already satisfied: six>=1.5 in /anaconda/envs/azureml_py310_sdkv2/lib/python3.10/site-packages (from python-dateutil<3.0.0,>=2.1->botocore<2,>=1.18->SDV) (1.16.0)\nRequirement already satisfied: joblib>=1.1.1 in /anaconda/envs/azureml_py310_sdkv2/lib/python3.10/site-packages (from scikit-learn>=1.1.3->ctgan<0.10,>=0.9.0->SDV) (1.2.0)\nRequirement already satisfied: threadpoolctl>=2.0.0 in /anaconda/envs/azureml_py310_sdkv2/lib/python3.10/site-packages (from scikit-learn>=1.1.3->ctgan<0.10,>=0.9.0->SDV) (3.1.0)\nRequirement already satisfied: filelock in /anaconda/envs/azureml_py310_sdkv2/lib/python3.10/site-packages (from torch>=1.11.0->ctgan<0.10,>=0.9.0->SDV) (3.12.2)\nRequirement already satisfied: typing-extensions>=4.8.0 in /anaconda/envs/azureml_py310_sdkv2/lib/python3.10/site-packages (from torch>=1.11.0->ctgan<0.10,>=0.9.0->SDV) (4.11.0)\nRequirement already satisfied: sympy in /anaconda/envs/azureml_py310_sdkv2/lib/python3.10/site-packages (from torch>=1.11.0->ctgan<0.10,>=0.9.0->SDV) (1.12)\nRequirement already satisfied: networkx in /anaconda/envs/azureml_py310_sdkv2/lib/python3.10/site-packages (from torch>=1.11.0->ctgan<0.10,>=0.9.0->SDV) (3.1)\nRequirement already satisfied: jinja2 in /anaconda/envs/azureml_py310_sdkv2/lib/python3.10/site-packages (from torch>=1.11.0->ctgan<0.10,>=0.9.0->SDV) (3.1.2)\nRequirement already satisfied: fsspec in /anaconda/envs/azureml_py310_sdkv2/lib/python3.10/site-packages (from torch>=1.11.0->ctgan<0.10,>=0.9.0->SDV) (2023.6.0)\nRequirement already satisfied: nvidia-cuda-nvrtc-cu12==12.1.105 in /anaconda/envs/azureml_py310_sdkv2/lib/python3.10/site-packages (from torch>=1.11.0->ctgan<0.10,>=0.9.0->SDV) (12.1.105)\nRequirement already satisfied: nvidia-cuda-runtime-cu12==12.1.105 in /anaconda/envs/azureml_py310_sdkv2/lib/python3.10/site-packages (from torch>=1.11.0->ctgan<0.10,>=0.9.0->SDV) (12.1.105)\nRequirement already satisfied: nvidia-cuda-cupti-cu12==12.1.105 in /anaconda/envs/azureml_py310_sdkv2/lib/python3.10/site-packages (from torch>=1.11.0->ctgan<0.10,>=0.9.0->SDV) (12.1.105)\nRequirement already satisfied: nvidia-cudnn-cu12==8.9.2.26 in /anaconda/envs/azureml_py310_sdkv2/lib/python3.10/site-packages (from torch>=1.11.0->ctgan<0.10,>=0.9.0->SDV) (8.9.2.26)\nRequirement already satisfied: nvidia-cublas-cu12==12.1.3.1 in /anaconda/envs/azureml_py310_sdkv2/lib/python3.10/site-packages (from torch>=1.11.0->ctgan<0.10,>=0.9.0->SDV) (12.1.3.1)\nRequirement already satisfied: nvidia-cufft-cu12==11.0.2.54 in /anaconda/envs/azureml_py310_sdkv2/lib/python3.10/site-packages (from torch>=1.11.0->ctgan<0.10,>=0.9.0->SDV) (11.0.2.54)\nRequirement already satisfied: nvidia-curand-cu12==10.3.2.106 in /anaconda/envs/azureml_py310_sdkv2/lib/python3.10/site-packages (from torch>=1.11.0->ctgan<0.10,>=0.9.0->SDV) (10.3.2.106)\nRequirement already satisfied: nvidia-cusolver-cu12==11.4.5.107 in /anaconda/envs/azureml_py310_sdkv2/lib/python3.10/site-packages (from torch>=1.11.0->ctgan<0.10,>=0.9.0->SDV) (11.4.5.107)\nRequirement already satisfied: nvidia-cusparse-cu12==12.1.0.106 in /anaconda/envs/azureml_py310_sdkv2/lib/python3.10/site-packages (from torch>=1.11.0->ctgan<0.10,>=0.9.0->SDV) (12.1.0.106)\nRequirement already satisfied: nvidia-nccl-cu12==2.19.3 in /anaconda/envs/azureml_py310_sdkv2/lib/python3.10/site-packages (from torch>=1.11.0->ctgan<0.10,>=0.9.0->SDV) (2.19.3)\nRequirement already satisfied: nvidia-nvtx-cu12==12.1.105 in /anaconda/envs/azureml_py310_sdkv2/lib/python3.10/site-packages (from torch>=1.11.0->ctgan<0.10,>=0.9.0->SDV) (12.1.105)\nRequirement already satisfied: triton==2.2.0 in /anaconda/envs/azureml_py310_sdkv2/lib/python3.10/site-packages (from torch>=1.11.0->ctgan<0.10,>=0.9.0->SDV) (2.2.0)\nRequirement already satisfied: nvidia-nvjitlink-cu12 in /anaconda/envs/azureml_py310_sdkv2/lib/python3.10/site-packages (from nvidia-cusolver-cu12==11.4.5.107->torch>=1.11.0->ctgan<0.10,>=0.9.0->SDV) (12.4.127)\nRequirement already satisfied: MarkupSafe>=2.0 in /anaconda/envs/azureml_py310_sdkv2/lib/python3.10/site-packages (from jinja2->torch>=1.11.0->ctgan<0.10,>=0.9.0->SDV) (2.1.3)\nRequirement already satisfied: mpmath>=0.19 in /anaconda/envs/azureml_py310_sdkv2/lib/python3.10/site-packages (from sympy->torch>=1.11.0->ctgan<0.10,>=0.9.0->SDV) (1.3.0)\nNote: you may need to restart the kernel to use updated packages.\n"
        }
      ],
      "execution_count": 1,
      "metadata": {}
    },
    {
      "cell_type": "code",
      "source": [
        "from sdv.metadata import MultiTableMetadata\n",
        "from sdv.multi_table import HMASynthesizer\n",
        "from sdv.datasets.local import load_csvs\n",
        "import pandas as pd\n",
        "\n",
        "df = pd.read_csv('data3/Identity.csv')\n",
        "\n",
        "#df['Value'] = 123\n",
        "df['Value'] = pd.to_numeric(df['Value'], errors='coerce')\n",
        "df.to_csv('data3/Identity.csv', index = False)\n",
        "\n",
        "metadata = MultiTableMetadata()\n",
        "metadata.detect_from_csvs(\n",
        "    folder_name='data3'\n",
        ")\n",
        "\n",
        "metadata.update_column(\n",
        "    table_name='Contractor',\n",
        "    column_name ='ContractorId',\n",
        "    sdtype='id'\n",
        ")\n",
        "metadata.update_column(\n",
        "    table_name='Contractor',\n",
        "    column_name ='SourceId',\n",
        "    sdtype='id'\n",
        ")\n",
        "\n",
        "metadata.update_column(\n",
        "    table_name='Competence',\n",
        "    column_name ='CompetenceId',\n",
        "    sdtype='id'\n",
        ")\n",
        "metadata.update_column(\n",
        "    table_name='Competence',\n",
        "    column_name ='SourceId',\n",
        "    sdtype='id'\n",
        ")\n",
        "metadata.update_column(\n",
        "    table_name='Competence',\n",
        "    column_name ='Contractor_Id',\n",
        "    sdtype='id'\n",
        ")\n",
        "\n",
        "#metadata.update_column(\n",
        " #   table_name='Competence',\n",
        " #   column_name ='Expires',\n",
        " #   sdtype='datetime',\n",
        " #   datetime_format='%Y-%m-%d %H:%M:%S.%f'\n",
        "#)\n",
        "\n",
        "\n",
        "metadata.update_column(\n",
        "    table_name='Identity',\n",
        "    column_name='DeletedDate',\n",
        "    sdtype='datetime',\n",
        "    datetime_format='%Y-%m-%d %H:%M:%S.%f'\n",
        ")\n",
        "metadata.update_column(\n",
        "    table_name='Identity',\n",
        "    column_name='Value',\n",
        "    sdtype='unknown',\n",
        "    pii= True\n",
        ")\n",
        "metadata.update_column(\n",
        "    table_name='Identity',\n",
        "    column_name='ActivatedDate',\n",
        "    sdtype='datetime',\n",
        "    datetime_format='%Y-%m-%d %H:%M:%S.%f'\n",
        ")\n",
        "metadata.update_column(\n",
        "    table_name='Contractor',\n",
        "    column_name='ContractorUpdated',\n",
        "    sdtype='datetime',\n",
        "    datetime_format='%Y-%m-%d %H:%M:%S.%f'\n",
        ")\n",
        "metadata.update_column(\n",
        "    table_name='Competence',\n",
        "    column_name='Acquired',\n",
        "    sdtype='datetime',\n",
        "    datetime_format='%Y-%m-%d %H:%M:%S.%f'\n",
        ")\n",
        "metadata.update_column(\n",
        "    table_name='Competence',\n",
        "    column_name='Created',\n",
        "    sdtype='datetime',\n",
        "    datetime_format='%Y-%m-%d %H:%M:%S.%f'\n",
        ")\n",
        "metadata.update_column(\n",
        "    table_name='Identity',\n",
        "    column_name='Value',\n",
        "    sdtype='numerical'\n",
        ")\n",
        "\n",
        "# Validate and visualize metadata\n",
        "print(\"Validate state: \", metadata.validate())\n",
        "#metadata.visualize(\n",
        "#    show_table_details='full',\n",
        "#    show_relationship_labels=True,\n",
        "#    output_filepath='my_metadata3.png'\n",
        "#)\n",
        "metadata.save_to_json('TestdataJson5')\n",
        "\n",
        "real_data = load_csvs(\n",
        "    folder_name='data3',\n",
        "    read_csv_parameters={\n",
        "        'skipinitialspace': True,\n",
        "        'encoding': 'utf_8'\n",
        "    }\n",
        ")\n",
        "\n",
        "print(\"Original Contractor:\\n\", real_data['Contractor'].head())\n",
        "print(\"Original Competence:\\n\", real_data['Competence'].head())\n",
        "print(\"Original Identity:\\n\", real_data['Identity'].head())\n",
        "\n",
        "#real_data['Identity']['Value'] = pd.to_numeric(real_data['Identity']['Value'], errors='coerce')\n",
        "\n",
        "# Drop rows with NaN values in 'Value' column\n",
        "#real_data['Identity'] = real_data['Identity'].dropna(subset=['Value'])\n",
        "\n",
        "# Identify valid contractor IDs\n",
        "#valid_contractor_ids = set(real_data['Contractor']['Contractor_Id'])\n",
        "\n",
        "# mismatched IDs i Competence Identity\n",
        "#mismatched_competence_ids = set(real_data['Competence']['Contractor_Id']) - valid_contractor_ids\n",
        "#mismatched_identity_ids = set(real_data['Identity']['Contractor_Id']) - valid_contractor_ids\n",
        "\n",
        "# Clean the data by removing rows with invalid foreign keys\n",
        "#real_data['Competence'] = real_data['Competence'][real_data['Competence']['Contractor_Id'].isin(valid_contractor_ids)]\n",
        "#real_data['Identity'] = real_data['Identity'][real_data['Identity']['Contractor_Id'].isin(valid_contractor_ids)]\n",
        "\n",
        "# Check if any of the tables are empty after cleaning\n",
        "if real_data['Contractor'].empty:\n",
        "    print(\"Contractor is empty\")\n",
        "if real_data['Competence'].empty:\n",
        "    print(\"Competence is empty\")\n",
        "if real_data['Identity'].empty:\n",
        "    print(\"Identity is empty\")\n",
        "\n",
        "synthesizer = HMASynthesizer(metadata)\n",
        "synthesizer.fit(real_data)\n",
        "\n",
        "synthetic_data = synthesizer.sample(scale=1)\n",
        "print(\"Synthetic Contractor:\\n\", synthetic_data['Contractor'].head())\n",
        "print(\"Synthetic Competence:\\n\", synthetic_data['Competence'].head())\n",
        "print(\"Synthetic Identity:\\n\", synthetic_data['Identity'].head())\n"
      ],
      "outputs": [
        {
          "output_type": "stream",
          "name": "stderr",
          "text": "/anaconda/envs/azureml_py310_sdkv2/lib/python3.10/site-packages/sdv/datasets/local.py:34: UserWarning: Ignoring incompatible files ['.amlignore', '.amlignore.amltmp', 'competence.csv.amltmp', 'identity.csv.amltmp'] in folder 'data3'.\n  warnings.warn(\nPreprocess Tables: 100%|██████████| 3/3 [00:00<00:00,  5.47it/s]\n(1/2) Tables 'Contractor' and 'Competence' ('Contractor_Id'): 100%|██████████| 14/14 [00:06<00:00,  2.04it/s]\n(2/2) Tables 'Contractor' and 'Identity' ('Contractor_Id'): 100%|██████████| 8/8 [00:01<00:00,  4.35it/s]\nModeling Tables: 100%|██████████| 1/1 [00:05<00:00,  5.99s/it]\n"
        },
        {
          "output_type": "stream",
          "name": "stdout",
          "text": "Validate state:  None\nOriginal Contractor:\n    Contractor_Id                          ContractorId  Source  SourceId  \\\n0         405298  d2cb31ab-c48f-4601-baf7-0001afe8e75c       0    151748   \n1         405299  3fdf03f8-230e-46ac-9b12-0001c95595e3       0     40493   \n2         405300  53dab2b6-5d3b-4b95-9638-0002199a45cb       0     78347   \n3         405302  9af74bcc-f888-4ae9-a3ea-0004195bf914       0    304775   \n4         405304  b7e66908-571f-4f36-b9ae-00058459c79c       0     32093   \n\n   FirstName  LastName                                           PhotoUrl  \\\n0     Leonel     Nohel  https://ssgcardissuestaging.blob.core.windows....   \n1     Hassan     Leafe  https://ssgcardissuestaging.blob.core.windows....   \n2  Jefferson  Crivelli  https://ssgcardissuestaging.blob.core.windows....   \n3       Rolf      Muns  https://ssgcardissuestaging.blob.core.windows....   \n4       Vito    Morles  https://ssgcardissuestaging.blob.core.windows....   \n\n   Nationality  BirthDay            ContractorUpdated  \n0          NaN       NaN  2023-11-22 00:36:08.8871022  \n1          NaN       NaN  2023-11-26 00:27:57.5237177  \n2          NaN       NaN  2023-09-20 15:18:29.1922362  \n3          NaN       NaN  2023-09-20 15:18:29.1922417  \n4          NaN       NaN  2023-10-07 00:51:34.8921892  \nOriginal Competence:\n        Id                          CompetenceId  \\\n0   85986  7faf2256-6a30-4701-87fc-eb6adc6f4845   \n1  226026  f3e6ac3f-79e3-4e9e-b9bd-fa8ab6b56e84   \n2  735754  ce92e8d4-da1d-431d-8e05-b3eb3b9783bc   \n3   15736  ce207637-e10a-4555-ac22-5466cb114381   \n4   62390  c5cf6675-300d-42a0-af39-6ae98c64def9   \n\n                               SourceId Source                     Acquired  \\\n0  6338c26c-863e-4320-aa5d-58bb2a3af12b    Ssg  2013-11-21 00:00:00.0000000   \n1  7f2d93d7-40b7-4c0a-8c1d-a33cc811feb8    Ssg  2016-09-12 13:12:12.5000000   \n2  7d4d949c-1d8b-7d8a-daf3-2ae6da650c2e    Ssg  2019-11-11 14:44:08.0730000   \n3  a8c8c9dc-3e50-49d6-abea-e11a80fa07ec    Ssg  2016-04-21 00:00:00.0000000   \n4  d60da9b8-b5ee-48e2-acf0-fe4f5e9b446f    Ssg  2014-02-10 00:00:00.0000000   \n\n                       Expires  Lang  Qualification_Id  Contractor_Id  \\\n0  2016-11-21 17:02:38.9700000  46.0               109         405298   \n1  2019-11-21 17:02:38.9700000  46.0               109         405298   \n2  2022-11-21 17:02:38.9700000  46.0               109         405298   \n3  2019-04-20 09:39:16.5100000  46.0               161         405299   \n4  2017-02-10 13:53:36.1570000  46.0               125         405299   \n\n                   Created          CreatedBy  Modified  ModifiedBy  \n0  2023-09-20 17:56:43.207  siteaccesscontrol       NaN         NaN  \n1  2023-09-20 18:38:15.810  siteaccesscontrol       NaN         NaN  \n2  2023-09-20 21:14:59.310  siteaccesscontrol       NaN         NaN  \n3  2023-09-20 17:37:01.007  siteaccesscontrol       NaN         NaN  \n4  2023-09-20 17:50:09.833  siteaccesscontrol       NaN         NaN  \nOriginal Identity:\n         Id  Contractor_Id IdentityType         Value  IsDeleted DeletedDate  \\\n0  1470932         405298          SSG  1.232607e+06          0         NaN   \n1  1620900         405298     PERSONAL  9.809019e+09          0         NaN   \n2  1770901         405298       EM4102  4.554490e+09          0         NaN   \n3  1905548         405298          MIF  3.411463e+08          0         NaN   \n4  2040373         405298          RCO  3.960004e+08          0         NaN   \n\n                 ActivatedDate  \n0  2023-10-12 08:17:50.4233333  \n1  2023-10-12 08:17:50.4233333  \n2  2023-10-12 08:17:50.4233333  \n3  2023-10-12 08:17:50.4233333  \n4  2023-10-12 08:17:50.4233333  \n\nLearning relationships:\n\nSynthetic Contractor:\n    Contractor_Id ContractorId  Source  SourceId FirstName  LastName  \\\n0              0        66584       0     72678    Laurie      Ryan   \n1              1        15182       0     94042  Kimberly  Castillo   \n2              2        28701       0     64764     April        Li   \n3              3        19518       0     82840    Arthur  Gonzalez   \n4              4        00376       0     34906    Nathan    Burton   \n\n                                            PhotoUrl  Nationality  BirthDay  \\\n0  https://ssgcardissuestaging.blob.core.windows....          NaN       NaN   \n1  https://ssgcardissuestaging.blob.core.windows....          NaN       NaN   \n2  https://ssgcardissuestaging.blob.core.windows....          NaN       NaN   \n3  https://ssgcardissuestaging.blob.core.windows....          NaN       NaN   \n4  https://ssgcardissuestaging.blob.core.windows....          NaN       NaN   \n\n            ContractorUpdated  \n0  2023-09-20 15:18:29.192673  \n1  2023-09-20 15:18:29.192236  \n2  2023-09-20 17:00:10.534987  \n3  2023-09-20 15:33:32.425088  \n4  2023-09-20 15:44:02.319606  \nSynthetic Competence:\n    Id CompetenceId SourceId Source                    Acquired  \\\n0   0        31953    27284    Ssg  2019-01-09 03:02:46.376175   \n1   1        43944    62062    Ssg  2015-12-26 17:51:25.646036   \n2   2        42923    55890    Ssg  2017-08-01 05:44:39.670932   \n3   3        95002    01142    Ssg  2018-09-25 08:21:16.503895   \n4   4        91334    99995    Ssg  2014-12-09 21:45:34.661299   \n\n                      Expires  Lang  Qualification_Id  Contractor_Id  \\\n0  2021-10-27 11:20:14.096072  46.0                40              0   \n1  2018-08-26 22:47:17.585351  46.0                13              0   \n2  2021-05-24 01:32:53.750867  46.0                26              0   \n3  2021-02-11 12:12:51.332909  46.0                67              1   \n4  2017-06-02 14:14:53.949772  46.0                74              1   \n\n                      Created          CreatedBy  Modified  ModifiedBy  \n0  2023-09-20 20:20:13.331751  siteaccesscontrol       NaN         NaN  \n1  2023-09-20 19:08:15.932911  siteaccesscontrol       NaN         NaN  \n2  2023-09-20 18:40:04.085803  siteaccesscontrol       NaN         NaN  \n3  2023-09-20 19:27:26.715931  siteaccesscontrol       NaN         NaN  \n4  2023-09-20 19:26:52.681612  siteaccesscontrol       NaN         NaN  \nSynthetic Identity:\n    Id  Contractor_Id IdentityType         Value  IsDeleted  \\\n0   0              0        SOLID  2.754017e+10          1   \n1   1              0       EM4102  2.769131e+09          0   \n2   2              0          RCO  3.790562e+10          0   \n3   3              0          RCO  5.874511e+08          1   \n4   4              0        AXEMA  6.471074e+07          0   \n\n                  DeletedDate               ActivatedDate  \n0                         NaN  2023-10-12 08:17:50.423333  \n1                         NaN  2023-10-12 08:17:50.423333  \n2  2018-11-15 05:42:58.684514  2023-10-12 08:17:50.423333  \n3  2017-04-10 15:32:18.654656  2023-10-12 08:17:50.423333  \n4  2017-01-29 07:42:06.509337  2023-10-12 08:17:50.423333  \n"
        }
      ],
      "execution_count": 36,
      "metadata": {
        "jupyter": {
          "source_hidden": false,
          "outputs_hidden": false
        },
        "nteract": {
          "transient": {
            "deleting": false
          }
        },
        "gather": {
          "logged": 1718095265187
        }
      }
    },
    {
      "cell_type": "code",
      "source": [
        "import uuid\n",
        "\n",
        "def format_columns_as_uuids(table, column_names):\n",
        "    for column in column_names:\n",
        "        table[column] = [str(uuid.uuid4()) for _ in range(len(table))]\n",
        "    return table\n",
        "\n",
        "synthetic_data['Contractor'] = format_columns_as_uuids(synthetic_data['Contractor'], ['ContractorId'])\n",
        "synthetic_data['Competence'] = format_columns_as_uuids(synthetic_data['Competence'], ['CompetenceId', 'SourceId'])\n",
        "synthetic_data['Competence']['CreatedBy'] = 'HMASynthesizer'\n",
        "synthetic_data['Contractor']['PhotoUrl'] = 'HMASynthesizer'\n"
      ],
      "outputs": [],
      "execution_count": 37,
      "metadata": {
        "jupyter": {
          "source_hidden": false,
          "outputs_hidden": false
        },
        "nteract": {
          "transient": {
            "deleting": false
          }
        },
        "gather": {
          "logged": 1718095272156
        }
      }
    },
    {
      "cell_type": "code",
      "source": [
        "def modify_string(value):\n",
        "    value_str = str(value)\n",
        "    return value_str[:-2] + 'hma'\n",
        "\n",
        "synthetic_data['Identity']['Value'] = synthetic_data['Identity']['Value'].apply(modify_string)\n"
      ],
      "outputs": [],
      "execution_count": 42,
      "metadata": {
        "jupyter": {
          "source_hidden": false,
          "outputs_hidden": false
        },
        "nteract": {
          "transient": {
            "deleting": false
          }
        },
        "gather": {
          "logged": 1718098727404
        }
      }
    },
    {
      "cell_type": "code",
      "source": [
        "synthetic_data['Competence'].to_csv('competence_HMAdata.csv', index=False)\n",
        "synthetic_data['Contractor'].to_csv('contractor_HMAdata.csv', index=False)\n",
        "synthetic_data['Identity'].to_csv('identity_HMAdata.csv', index=False)"
      ],
      "outputs": [],
      "execution_count": 44,
      "metadata": {
        "jupyter": {
          "source_hidden": false,
          "outputs_hidden": false
        },
        "nteract": {
          "transient": {
            "deleting": false
          }
        },
        "gather": {
          "logged": 1718100969238
        }
      }
    },
    {
      "cell_type": "code",
      "source": [],
      "outputs": [],
      "execution_count": null,
      "metadata": {
        "jupyter": {
          "source_hidden": false,
          "outputs_hidden": false
        },
        "nteract": {
          "transient": {
            "deleting": false
          }
        }
      }
    }
  ],
  "metadata": {
    "kernelspec": {
      "name": "python310-sdkv2",
      "language": "python",
      "display_name": "Python 3.10 - SDK v2"
    },
    "language_info": {
      "name": "python",
      "version": "3.10.11",
      "mimetype": "text/x-python",
      "codemirror_mode": {
        "name": "ipython",
        "version": 3
      },
      "pygments_lexer": "ipython3",
      "nbconvert_exporter": "python",
      "file_extension": ".py"
    },
    "microsoft": {
      "ms_spell_check": {
        "ms_spell_check_language": "en"
      },
      "host": {
        "AzureML": {
          "notebookHasBeenCompleted": true
        }
      }
    },
    "kernel_info": {
      "name": "python310-sdkv2"
    },
    "nteract": {
      "version": "nteract-front-end@1.0.0"
    }
  },
  "nbformat": 4,
  "nbformat_minor": 2
}