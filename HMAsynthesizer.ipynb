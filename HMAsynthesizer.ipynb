{
  "cells": [
    {
      "cell_type": "code",
      "source": [
        "%pip install SDV"
      ],
      "outputs": [
        {
          "output_type": "stream",
          "name": "stdout",
          "text": "Requirement already satisfied: SDV in /anaconda/envs/azureml_py310_sdkv2/lib/python3.10/site-packages (1.11.0)\nRequirement already satisfied: boto3<2,>=1.15.0 in /anaconda/envs/azureml_py310_sdkv2/lib/python3.10/site-packages (from SDV) (1.34.82)\nRequirement already satisfied: botocore<2,>=1.18 in /anaconda/envs/azureml_py310_sdkv2/lib/python3.10/site-packages (from SDV) (1.34.82)\nRequirement already satisfied: cloudpickle<3.0,>=2.1.0 in /anaconda/envs/azureml_py310_sdkv2/lib/python3.10/site-packages (from SDV) (2.2.1)\nRequirement already satisfied: graphviz<1,>=0.13.2 in /anaconda/envs/azureml_py310_sdkv2/lib/python3.10/site-packages (from SDV) (0.20.3)\nRequirement already satisfied: tqdm<5,>=4.15 in /anaconda/envs/azureml_py310_sdkv2/lib/python3.10/site-packages (from SDV) (4.65.0)\nRequirement already satisfied: copulas<0.10,>=0.9.0 in /anaconda/envs/azureml_py310_sdkv2/lib/python3.10/site-packages (from SDV) (0.9.2)\nRequirement already satisfied: ctgan<0.10,>=0.9.0 in /anaconda/envs/azureml_py310_sdkv2/lib/python3.10/site-packages (from SDV) (0.9.1)\nRequirement already satisfied: deepecho<0.6,>=0.5 in /anaconda/envs/azureml_py310_sdkv2/lib/python3.10/site-packages (from SDV) (0.5.0)\nRequirement already satisfied: rdt<2,>=1.10.0 in /anaconda/envs/azureml_py310_sdkv2/lib/python3.10/site-packages (from SDV) (1.11.0)\nRequirement already satisfied: sdmetrics<0.14,>=0.13.0 in /anaconda/envs/azureml_py310_sdkv2/lib/python3.10/site-packages (from SDV) (0.13.0)\nRequirement already satisfied: numpy<2,>=1.23.3 in /anaconda/envs/azureml_py310_sdkv2/lib/python3.10/site-packages (from SDV) (1.23.5)\nRequirement already satisfied: pandas>=1.3.4 in /anaconda/envs/azureml_py310_sdkv2/lib/python3.10/site-packages (from SDV) (2.0.2)\nRequirement already satisfied: jmespath<2.0.0,>=0.7.1 in /anaconda/envs/azureml_py310_sdkv2/lib/python3.10/site-packages (from boto3<2,>=1.15.0->SDV) (1.0.1)\nRequirement already satisfied: s3transfer<0.11.0,>=0.10.0 in /anaconda/envs/azureml_py310_sdkv2/lib/python3.10/site-packages (from boto3<2,>=1.15.0->SDV) (0.10.1)\nRequirement already satisfied: python-dateutil<3.0.0,>=2.1 in /anaconda/envs/azureml_py310_sdkv2/lib/python3.10/site-packages (from botocore<2,>=1.18->SDV) (2.8.2)\nRequirement already satisfied: urllib3!=2.2.0,<3,>=1.25.4 in /anaconda/envs/azureml_py310_sdkv2/lib/python3.10/site-packages (from botocore<2,>=1.18->SDV) (2.2.1)\nRequirement already satisfied: matplotlib<4,>=3.6.0 in /anaconda/envs/azureml_py310_sdkv2/lib/python3.10/site-packages (from copulas<0.10,>=0.9.0->SDV) (3.7.1)\nRequirement already satisfied: scipy<2,>=1.9.2 in /anaconda/envs/azureml_py310_sdkv2/lib/python3.10/site-packages (from copulas<0.10,>=0.9.0->SDV) (1.10.1)\nRequirement already satisfied: scikit-learn>=1.1.3 in /anaconda/envs/azureml_py310_sdkv2/lib/python3.10/site-packages (from ctgan<0.10,>=0.9.0->SDV) (1.2.2)\nRequirement already satisfied: torch>=1.11.0 in /anaconda/envs/azureml_py310_sdkv2/lib/python3.10/site-packages (from ctgan<0.10,>=0.9.0->SDV) (2.2.2)\nRequirement already satisfied: pytz>=2020.1 in /anaconda/envs/azureml_py310_sdkv2/lib/python3.10/site-packages (from pandas>=1.3.4->SDV) (2023.3)\nRequirement already satisfied: tzdata>=2022.1 in /anaconda/envs/azureml_py310_sdkv2/lib/python3.10/site-packages (from pandas>=1.3.4->SDV) (2023.3)\nRequirement already satisfied: Faker>=17 in /anaconda/envs/azureml_py310_sdkv2/lib/python3.10/site-packages (from rdt<2,>=1.10.0->SDV) (24.8.0)\nRequirement already satisfied: plotly<6,>=5.10.0 in /anaconda/envs/azureml_py310_sdkv2/lib/python3.10/site-packages (from sdmetrics<0.14,>=0.13.0->SDV) (5.20.0)\nRequirement already satisfied: contourpy>=1.0.1 in /anaconda/envs/azureml_py310_sdkv2/lib/python3.10/site-packages (from matplotlib<4,>=3.6.0->copulas<0.10,>=0.9.0->SDV) (1.1.0)\nRequirement already satisfied: cycler>=0.10 in /anaconda/envs/azureml_py310_sdkv2/lib/python3.10/site-packages (from matplotlib<4,>=3.6.0->copulas<0.10,>=0.9.0->SDV) (0.11.0)\nRequirement already satisfied: fonttools>=4.22.0 in /anaconda/envs/azureml_py310_sdkv2/lib/python3.10/site-packages (from matplotlib<4,>=3.6.0->copulas<0.10,>=0.9.0->SDV) (4.40.0)\nRequirement already satisfied: kiwisolver>=1.0.1 in /anaconda/envs/azureml_py310_sdkv2/lib/python3.10/site-packages (from matplotlib<4,>=3.6.0->copulas<0.10,>=0.9.0->SDV) (1.4.4)\nRequirement already satisfied: packaging>=20.0 in /anaconda/envs/azureml_py310_sdkv2/lib/python3.10/site-packages (from matplotlib<4,>=3.6.0->copulas<0.10,>=0.9.0->SDV) (23.0)\nRequirement already satisfied: pillow>=6.2.0 in /anaconda/envs/azureml_py310_sdkv2/lib/python3.10/site-packages (from matplotlib<4,>=3.6.0->copulas<0.10,>=0.9.0->SDV) (9.5.0)\nRequirement already satisfied: pyparsing>=2.3.1 in /anaconda/envs/azureml_py310_sdkv2/lib/python3.10/site-packages (from matplotlib<4,>=3.6.0->copulas<0.10,>=0.9.0->SDV) (3.1.0)\nRequirement already satisfied: tenacity>=6.2.0 in /anaconda/envs/azureml_py310_sdkv2/lib/python3.10/site-packages (from plotly<6,>=5.10.0->sdmetrics<0.14,>=0.13.0->SDV) (8.2.3)\nRequirement already satisfied: six>=1.5 in /anaconda/envs/azureml_py310_sdkv2/lib/python3.10/site-packages (from python-dateutil<3.0.0,>=2.1->botocore<2,>=1.18->SDV) (1.16.0)\nRequirement already satisfied: joblib>=1.1.1 in /anaconda/envs/azureml_py310_sdkv2/lib/python3.10/site-packages (from scikit-learn>=1.1.3->ctgan<0.10,>=0.9.0->SDV) (1.2.0)\nRequirement already satisfied: threadpoolctl>=2.0.0 in /anaconda/envs/azureml_py310_sdkv2/lib/python3.10/site-packages (from scikit-learn>=1.1.3->ctgan<0.10,>=0.9.0->SDV) (3.1.0)\nRequirement already satisfied: filelock in /anaconda/envs/azureml_py310_sdkv2/lib/python3.10/site-packages (from torch>=1.11.0->ctgan<0.10,>=0.9.0->SDV) (3.12.2)\nRequirement already satisfied: typing-extensions>=4.8.0 in /anaconda/envs/azureml_py310_sdkv2/lib/python3.10/site-packages (from torch>=1.11.0->ctgan<0.10,>=0.9.0->SDV) (4.11.0)\nRequirement already satisfied: sympy in /anaconda/envs/azureml_py310_sdkv2/lib/python3.10/site-packages (from torch>=1.11.0->ctgan<0.10,>=0.9.0->SDV) (1.12)\nRequirement already satisfied: networkx in /anaconda/envs/azureml_py310_sdkv2/lib/python3.10/site-packages (from torch>=1.11.0->ctgan<0.10,>=0.9.0->SDV) (3.1)\nRequirement already satisfied: jinja2 in /anaconda/envs/azureml_py310_sdkv2/lib/python3.10/site-packages (from torch>=1.11.0->ctgan<0.10,>=0.9.0->SDV) (3.1.2)\nRequirement already satisfied: fsspec in /anaconda/envs/azureml_py310_sdkv2/lib/python3.10/site-packages (from torch>=1.11.0->ctgan<0.10,>=0.9.0->SDV) (2023.6.0)\nRequirement already satisfied: nvidia-cuda-nvrtc-cu12==12.1.105 in /anaconda/envs/azureml_py310_sdkv2/lib/python3.10/site-packages (from torch>=1.11.0->ctgan<0.10,>=0.9.0->SDV) (12.1.105)\nRequirement already satisfied: nvidia-cuda-runtime-cu12==12.1.105 in /anaconda/envs/azureml_py310_sdkv2/lib/python3.10/site-packages (from torch>=1.11.0->ctgan<0.10,>=0.9.0->SDV) (12.1.105)\nRequirement already satisfied: nvidia-cuda-cupti-cu12==12.1.105 in /anaconda/envs/azureml_py310_sdkv2/lib/python3.10/site-packages (from torch>=1.11.0->ctgan<0.10,>=0.9.0->SDV) (12.1.105)\nRequirement already satisfied: nvidia-cudnn-cu12==8.9.2.26 in /anaconda/envs/azureml_py310_sdkv2/lib/python3.10/site-packages (from torch>=1.11.0->ctgan<0.10,>=0.9.0->SDV) (8.9.2.26)\nRequirement already satisfied: nvidia-cublas-cu12==12.1.3.1 in /anaconda/envs/azureml_py310_sdkv2/lib/python3.10/site-packages (from torch>=1.11.0->ctgan<0.10,>=0.9.0->SDV) (12.1.3.1)\nRequirement already satisfied: nvidia-cufft-cu12==11.0.2.54 in /anaconda/envs/azureml_py310_sdkv2/lib/python3.10/site-packages (from torch>=1.11.0->ctgan<0.10,>=0.9.0->SDV) (11.0.2.54)\nRequirement already satisfied: nvidia-curand-cu12==10.3.2.106 in /anaconda/envs/azureml_py310_sdkv2/lib/python3.10/site-packages (from torch>=1.11.0->ctgan<0.10,>=0.9.0->SDV) (10.3.2.106)\nRequirement already satisfied: nvidia-cusolver-cu12==11.4.5.107 in /anaconda/envs/azureml_py310_sdkv2/lib/python3.10/site-packages (from torch>=1.11.0->ctgan<0.10,>=0.9.0->SDV) (11.4.5.107)\nRequirement already satisfied: nvidia-cusparse-cu12==12.1.0.106 in /anaconda/envs/azureml_py310_sdkv2/lib/python3.10/site-packages (from torch>=1.11.0->ctgan<0.10,>=0.9.0->SDV) (12.1.0.106)\nRequirement already satisfied: nvidia-nccl-cu12==2.19.3 in /anaconda/envs/azureml_py310_sdkv2/lib/python3.10/site-packages (from torch>=1.11.0->ctgan<0.10,>=0.9.0->SDV) (2.19.3)\nRequirement already satisfied: nvidia-nvtx-cu12==12.1.105 in /anaconda/envs/azureml_py310_sdkv2/lib/python3.10/site-packages (from torch>=1.11.0->ctgan<0.10,>=0.9.0->SDV) (12.1.105)\nRequirement already satisfied: triton==2.2.0 in /anaconda/envs/azureml_py310_sdkv2/lib/python3.10/site-packages (from torch>=1.11.0->ctgan<0.10,>=0.9.0->SDV) (2.2.0)\nRequirement already satisfied: nvidia-nvjitlink-cu12 in /anaconda/envs/azureml_py310_sdkv2/lib/python3.10/site-packages (from nvidia-cusolver-cu12==11.4.5.107->torch>=1.11.0->ctgan<0.10,>=0.9.0->SDV) (12.4.127)\nRequirement already satisfied: MarkupSafe>=2.0 in /anaconda/envs/azureml_py310_sdkv2/lib/python3.10/site-packages (from jinja2->torch>=1.11.0->ctgan<0.10,>=0.9.0->SDV) (2.1.3)\nRequirement already satisfied: mpmath>=0.19 in /anaconda/envs/azureml_py310_sdkv2/lib/python3.10/site-packages (from sympy->torch>=1.11.0->ctgan<0.10,>=0.9.0->SDV) (1.3.0)\nNote: you may need to restart the kernel to use updated packages.\n"
        }
      ],
      "execution_count": 1,
      "metadata": {}
    },
    {
      "cell_type": "code",
      "source": [
        "import sdv\n",
        "\n",
        "print(sdv.version.public)"
      ],
      "outputs": [
        {
          "output_type": "stream",
          "name": "stdout",
          "text": "1.11.0\n"
        }
      ],
      "execution_count": 2,
      "metadata": {
        "jupyter": {
          "source_hidden": false,
          "outputs_hidden": false
        },
        "nteract": {
          "transient": {
            "deleting": false
          }
        },
        "gather": {
          "logged": 1716325739855
        }
      }
    },
    {
      "cell_type": "code",
      "source": [
        "from sdv.metadata import MultiTableMetadata\n",
        "\n",
        "metadata = MultiTableMetadata()\n",
        "metadata.detect_from_csvs(\n",
        "    folder_name=('data')\n",
        ")\n",
        "\n",
        "metadata.update_column(\n",
        "    table_name='Contractor',\n",
        "    column_name ='ContractorId',\n",
        "    sdtype='id'\n",
        ")\n",
        "metadata.update_column(\n",
        "    table_name='Contractor',\n",
        "    column_name ='SourceId',\n",
        "    sdtype='id'\n",
        ")\n",
        "\n",
        "metadata.update_column(\n",
        "    table_name='Competence',\n",
        "    column_name ='CompetenceId',\n",
        "    sdtype='id'\n",
        ")\n",
        "metadata.update_column(\n",
        "    table_name='Competence',\n",
        "    column_name ='SourceId',\n",
        "    sdtype='id'\n",
        ")\n",
        "metadata.update_column(\n",
        "    table_name='Contractor',\n",
        "    column_name='BirthDay',\n",
        "    sdtype='datetime',\n",
        "    datetime_format='%Y%m%d'\n",
        ")\n",
        "metadata.update_column(\n",
        "    table_name='Competence',\n",
        "    column_name ='Acquired',\n",
        "    sdtype='datetime',\n",
        "    datetime_format='%Y-%m-%d %H:%M:%S.%f'\n",
        ")\n",
        "metadata.update_column(\n",
        "    table_name='Competence',\n",
        "    column_name ='Expires',\n",
        "    sdtype='datetime',\n",
        "    datetime_format='%Y-%m-%d %H:%M:%S.%f'\n",
        ")\n",
        "metadata.update_column(\n",
        "    table_name='Competence',\n",
        "    column_name ='Created',\n",
        "    sdtype='datetime',\n",
        "    datetime_format='%Y-%m-%d %H:%M:%S.%f'\n",
        ")\n",
        "metadata.update_column(\n",
        "    table_name='Contractor',\n",
        "    column_name ='ContractorUpdated',\n",
        "    sdtype='datetime',\n",
        "        datetime_format='%Y-%m-%d %H:%M:%S.%f'\n",
        ")\n",
        "metadata.update_column(\n",
        "    table_name='Competence',\n",
        "    column_name ='Contractor_Id',\n",
        "    sdtype='id'\n",
        ")\n",
        "metadata.add_alternate_keys(\n",
        "    table_name='Contractor',\n",
        "    column_names=['ContractorId']\n",
        ")\n",
        "metadata.add_alternate_keys(\n",
        "    table_name='Competence',\n",
        "    column_names=['CompetenceId']\n",
        ")\n",
        "metadata.add_alternate_keys(\n",
        "    table_name='Competence',\n",
        "    column_names=['SourceId']\n",
        ")\n",
        "metadata.add_relationship(\n",
        "    parent_table_name='Contractor',\n",
        "    child_table_name='Competence',\n",
        "    parent_primary_key='Id',\n",
        "    child_foreign_key='Contractor_Id'\n",
        ")\n",
        "\n",
        "print(\"validate state: \", metadata.validate())\n",
        "#metadata.visualize(\n",
        "#    show_table_details='full',\n",
        "#    show_relationship_labels=True,\n",
        "#    output_filepath='my_metadata.png'\n",
        "#)\n",
        "metadata.save_to_json('TestdataJson1000')"
      ],
      "outputs": [
        {
          "output_type": "stream",
          "name": "stderr",
          "text": "/anaconda/envs/azureml_py310_sdkv2/lib/python3.10/site-packages/sdv/metadata/multi_table.py:518: UserWarning: Could not automatically add relationships for all tables. The relationships in the dataset are disjointed. Tables ['Competence', 'Contractor'] are not connected to any of the other tables.\n  warnings.warn(warning_msg)\n"
        },
        {
          "output_type": "stream",
          "name": "stdout",
          "text": "validate state:  None\n"
        }
      ],
      "execution_count": 3,
      "metadata": {
        "jupyter": {
          "source_hidden": false,
          "outputs_hidden": false
        },
        "nteract": {
          "transient": {
            "deleting": false
          }
        },
        "gather": {
          "logged": 1716325745193
        }
      }
    },
    {
      "cell_type": "code",
      "source": [
        "from sdv.multi_table import HMASynthesizer\n",
        "from sdv.datasets.local import load_csvs\n",
        "from sdv.utils import drop_unknown_references\n",
        "\n",
        "real_data = load_csvs( folder_name='data',\n",
        "    read_csv_parameters={\n",
        "        'skipinitialspace': True,\n",
        "        'encoding': 'utf_8'\n",
        "    })\n",
        "#cleaned_data = drop_unknown_references(real_data, metadata)\n",
        "synthesizer = HMASynthesizer(metadata)\n",
        "synthesizer.fit(real_data)\n",
        "\n",
        "synthetic_data = synthesizer.sample()"
      ],
      "outputs": [
        {
          "output_type": "stream",
          "name": "stderr",
          "text": "/anaconda/envs/azureml_py310_sdkv2/lib/python3.10/site-packages/sdv/datasets/local.py:34: UserWarning: Ignoring incompatible files ['.amlignore', '.amlignore.amltmp'] in folder 'data'.\n  warnings.warn(\n"
        },
        {
          "output_type": "error",
          "ename": "InvalidDataError",
          "evalue": "The provided data does not match the metadata:\nTable: 'Competence'\nError: Invalid values found for datetime column 'Expires': ['9999-12-31 23:59:59.9970000'].",
          "traceback": [
            "\u001b[0;31m---------------------------------------------------------------------------\u001b[0m",
            "\u001b[0;31mInvalidDataError\u001b[0m                          Traceback (most recent call last)",
            "Cell \u001b[0;32mIn[4], line 12\u001b[0m\n\u001b[1;32m     10\u001b[0m \u001b[38;5;66;03m#cleaned_data = drop_unknown_references(real_data, metadata)\u001b[39;00m\n\u001b[1;32m     11\u001b[0m synthesizer \u001b[38;5;241m=\u001b[39m HMASynthesizer(metadata)\n\u001b[0;32m---> 12\u001b[0m \u001b[43msynthesizer\u001b[49m\u001b[38;5;241;43m.\u001b[39;49m\u001b[43mfit\u001b[49m\u001b[43m(\u001b[49m\u001b[43mreal_data\u001b[49m\u001b[43m)\u001b[49m\n\u001b[1;32m     14\u001b[0m synthetic_data \u001b[38;5;241m=\u001b[39m synthesizer\u001b[38;5;241m.\u001b[39msample()\n",
            "File \u001b[0;32m/anaconda/envs/azureml_py310_sdkv2/lib/python3.10/site-packages/sdv/multi_table/base.py:385\u001b[0m, in \u001b[0;36mBaseMultiTableSynthesizer.fit\u001b[0;34m(self, data)\u001b[0m\n\u001b[1;32m    383\u001b[0m \u001b[38;5;28mself\u001b[39m\u001b[38;5;241m.\u001b[39m_check_metadata_updated()\n\u001b[1;32m    384\u001b[0m \u001b[38;5;28mself\u001b[39m\u001b[38;5;241m.\u001b[39m_fitted \u001b[38;5;241m=\u001b[39m \u001b[38;5;28;01mFalse\u001b[39;00m\n\u001b[0;32m--> 385\u001b[0m processed_data \u001b[38;5;241m=\u001b[39m \u001b[38;5;28;43mself\u001b[39;49m\u001b[38;5;241;43m.\u001b[39;49m\u001b[43mpreprocess\u001b[49m\u001b[43m(\u001b[49m\u001b[43mdata\u001b[49m\u001b[43m)\u001b[49m\n\u001b[1;32m    386\u001b[0m \u001b[38;5;28mself\u001b[39m\u001b[38;5;241m.\u001b[39m_print(text\u001b[38;5;241m=\u001b[39m\u001b[38;5;124m'\u001b[39m\u001b[38;5;130;01m\\n\u001b[39;00m\u001b[38;5;124m'\u001b[39m, end\u001b[38;5;241m=\u001b[39m\u001b[38;5;124m'\u001b[39m\u001b[38;5;124m'\u001b[39m)\n\u001b[1;32m    387\u001b[0m \u001b[38;5;28mself\u001b[39m\u001b[38;5;241m.\u001b[39mfit_processed_data(processed_data)\n",
            "File \u001b[0;32m/anaconda/envs/azureml_py310_sdkv2/lib/python3.10/site-packages/sdv/multi_table/hma.py:231\u001b[0m, in \u001b[0;36mHMASynthesizer.preprocess\u001b[0;34m(self, data)\u001b[0m\n\u001b[1;32m    220\u001b[0m \u001b[38;5;28;01mdef\u001b[39;00m \u001b[38;5;21mpreprocess\u001b[39m(\u001b[38;5;28mself\u001b[39m, data):\n\u001b[1;32m    221\u001b[0m \u001b[38;5;250m    \u001b[39m\u001b[38;5;124;03m\"\"\"Transform the raw data to numerical space.\u001b[39;00m\n\u001b[1;32m    222\u001b[0m \n\u001b[1;32m    223\u001b[0m \u001b[38;5;124;03m    Args:\u001b[39;00m\n\u001b[0;32m   (...)\u001b[0m\n\u001b[1;32m    229\u001b[0m \u001b[38;5;124;03m            A dictionary with the preprocessed data.\u001b[39;00m\n\u001b[1;32m    230\u001b[0m \u001b[38;5;124;03m    \"\"\"\u001b[39;00m\n\u001b[0;32m--> 231\u001b[0m     processed_data \u001b[38;5;241m=\u001b[39m \u001b[38;5;28;43msuper\u001b[39;49m\u001b[43m(\u001b[49m\u001b[43m)\u001b[49m\u001b[38;5;241;43m.\u001b[39;49m\u001b[43mpreprocess\u001b[49m\u001b[43m(\u001b[49m\u001b[43mdata\u001b[49m\u001b[43m)\u001b[49m\n\u001b[1;32m    232\u001b[0m     \u001b[38;5;28;01mfor\u001b[39;00m _, synthesizer \u001b[38;5;129;01min\u001b[39;00m \u001b[38;5;28mself\u001b[39m\u001b[38;5;241m.\u001b[39m_table_synthesizers\u001b[38;5;241m.\u001b[39mitems():\n\u001b[1;32m    233\u001b[0m         synthesizer\u001b[38;5;241m.\u001b[39mreset_sampling()\n",
            "File \u001b[0;32m/anaconda/envs/azureml_py310_sdkv2/lib/python3.10/site-packages/sdv/multi_table/base.py:326\u001b[0m, in \u001b[0;36mBaseMultiTableSynthesizer.preprocess\u001b[0;34m(self, data)\u001b[0m\n\u001b[1;32m    315\u001b[0m \u001b[38;5;28;01mdef\u001b[39;00m \u001b[38;5;21mpreprocess\u001b[39m(\u001b[38;5;28mself\u001b[39m, data):\n\u001b[1;32m    316\u001b[0m \u001b[38;5;250m    \u001b[39m\u001b[38;5;124;03m\"\"\"Transform the raw data to numerical space.\u001b[39;00m\n\u001b[1;32m    317\u001b[0m \n\u001b[1;32m    318\u001b[0m \u001b[38;5;124;03m    Args:\u001b[39;00m\n\u001b[0;32m   (...)\u001b[0m\n\u001b[1;32m    324\u001b[0m \u001b[38;5;124;03m            A dictionary with the preprocessed data.\u001b[39;00m\n\u001b[1;32m    325\u001b[0m \u001b[38;5;124;03m    \"\"\"\u001b[39;00m\n\u001b[0;32m--> 326\u001b[0m     \u001b[38;5;28;43mself\u001b[39;49m\u001b[38;5;241;43m.\u001b[39;49m\u001b[43mvalidate\u001b[49m\u001b[43m(\u001b[49m\u001b[43mdata\u001b[49m\u001b[43m)\u001b[49m\n\u001b[1;32m    327\u001b[0m     \u001b[38;5;28;01mif\u001b[39;00m \u001b[38;5;28mself\u001b[39m\u001b[38;5;241m.\u001b[39m_fitted:\n\u001b[1;32m    328\u001b[0m         warnings\u001b[38;5;241m.\u001b[39mwarn(\n\u001b[1;32m    329\u001b[0m             \u001b[38;5;124m'\u001b[39m\u001b[38;5;124mThis model has already been fitted. To use the new preprocessed data, \u001b[39m\u001b[38;5;124m'\u001b[39m\n\u001b[1;32m    330\u001b[0m             \u001b[38;5;124m\"\u001b[39m\u001b[38;5;124mplease refit the model using \u001b[39m\u001b[38;5;124m'\u001b[39m\u001b[38;5;124mfit\u001b[39m\u001b[38;5;124m'\u001b[39m\u001b[38;5;124m or \u001b[39m\u001b[38;5;124m'\u001b[39m\u001b[38;5;124mfit_processed_data\u001b[39m\u001b[38;5;124m'\u001b[39m\u001b[38;5;124m.\u001b[39m\u001b[38;5;124m\"\u001b[39m\n\u001b[1;32m    331\u001b[0m         )\n",
            "File \u001b[0;32m/anaconda/envs/azureml_py310_sdkv2/lib/python3.10/site-packages/sdv/multi_table/base.py:240\u001b[0m, in \u001b[0;36mBaseMultiTableSynthesizer.validate\u001b[0;34m(self, data)\u001b[0m\n\u001b[1;32m    237\u001b[0m         errors \u001b[38;5;241m+\u001b[39m\u001b[38;5;241m=\u001b[39m \u001b[38;5;28mself\u001b[39m\u001b[38;5;241m.\u001b[39m_table_synthesizers[table_name]\u001b[38;5;241m.\u001b[39m_validate(data[table_name])\n\u001b[1;32m    239\u001b[0m \u001b[38;5;28;01mif\u001b[39;00m errors:\n\u001b[0;32m--> 240\u001b[0m     \u001b[38;5;28;01mraise\u001b[39;00m InvalidDataError(errors)\n",
            "\u001b[0;31mInvalidDataError\u001b[0m: The provided data does not match the metadata:\nTable: 'Competence'\nError: Invalid values found for datetime column 'Expires': ['9999-12-31 23:59:59.9970000']."
          ]
        }
      ],
      "execution_count": 4,
      "metadata": {
        "jupyter": {
          "source_hidden": false,
          "outputs_hidden": false
        },
        "nteract": {
          "transient": {
            "deleting": false
          }
        },
        "gather": {
          "logged": 1716325745689
        }
      }
    },
    {
      "cell_type": "code",
      "source": [
        "synthetic_data = synthesizer.sample(scale=0.1)"
      ],
      "outputs": [],
      "execution_count": null,
      "metadata": {
        "jupyter": {
          "source_hidden": false,
          "outputs_hidden": false
        },
        "nteract": {
          "transient": {
            "deleting": false
          }
        },
        "gather": {
          "logged": 1716325745817
        }
      }
    },
    {
      "cell_type": "markdown",
      "source": [],
      "metadata": {
        "nteract": {
          "transient": {
            "deleting": false
          }
        }
      }
    },
    {
      "cell_type": "markdown",
      "source": [
        "NYA"
      ],
      "metadata": {
        "nteract": {
          "transient": {
            "deleting": false
          }
        }
      }
    },
    {
      "cell_type": "code",
      "source": [
        "import uuid\n",
        "\n",
        "def format_columns_as_uuids(table, column_names):\n",
        "    for column in column_names:\n",
        "        table[column] = [str(uuid.uuid4()) for _ in range(len(table))]\n",
        "    return table\n",
        "\n",
        "\n",
        "synthetic_data['Contractor'] = format_columns_as_uuids(synthetic_data['Contractor'], ['ContractorId'])\n",
        "synthetic_data['Competence'] = format_columns_as_uuids(synthetic_data['Competence'], ['CompetenceId', 'SourceId'])\n",
        "\n",
        "synthetic_data['Competence']['CreatedBy'] = 'HMASynthesizer'\n",
        "synthetic_data['Contractor']['PhotoUrl'] = 'HMASynthesizer'\n",
        "\n",
        "\n",
        "from sdv.evaluation.multi_table import run_diagnostic\n",
        "\n",
        "diagnostic = run_diagnostic(\n",
        "    real_data=real_data,\n",
        "    synthetic_data=synthetic_data,\n",
        "    metadata=metadata\n",
        ")\n",
        "\n",
        "\n",
        "print(diagnostic)"
      ],
      "outputs": [],
      "execution_count": null,
      "metadata": {
        "jupyter": {
          "source_hidden": false,
          "outputs_hidden": false
        },
        "nteract": {
          "transient": {
            "deleting": false
          }
        },
        "gather": {
          "logged": 1716325745834
        }
      }
    },
    {
      "cell_type": "code",
      "source": [
        "synthetic_data['Competence'].head(3)"
      ],
      "outputs": [],
      "execution_count": null,
      "metadata": {
        "jupyter": {
          "source_hidden": false,
          "outputs_hidden": false
        },
        "nteract": {
          "transient": {
            "deleting": false
          }
        },
        "gather": {
          "logged": 1714995039392
        }
      }
    },
    {
      "cell_type": "code",
      "source": [
        "real_data['Competence'].head(3)"
      ],
      "outputs": [],
      "execution_count": null,
      "metadata": {
        "jupyter": {
          "source_hidden": false,
          "outputs_hidden": false
        },
        "nteract": {
          "transient": {
            "deleting": false
          }
        },
        "gather": {
          "logged": 1714995039430
        }
      }
    },
    {
      "cell_type": "code",
      "source": [
        "synthetic_data['Contractor'].head(3)"
      ],
      "outputs": [],
      "execution_count": null,
      "metadata": {
        "jupyter": {
          "source_hidden": false,
          "outputs_hidden": false
        },
        "nteract": {
          "transient": {
            "deleting": false
          }
        },
        "gather": {
          "logged": 1714995039461
        }
      }
    },
    {
      "cell_type": "code",
      "source": [
        "real_data['Contractor'].head(3)"
      ],
      "outputs": [],
      "execution_count": null,
      "metadata": {
        "jupyter": {
          "source_hidden": false,
          "outputs_hidden": false
        },
        "nteract": {
          "transient": {
            "deleting": false
          }
        },
        "gather": {
          "logged": 1714995039504
        }
      }
    },
    {
      "cell_type": "code",
      "source": [
        "from sdv.evaluation.multi_table import run_diagnostic\n",
        "\n",
        "diagnostic = run_diagnostic(\n",
        "    real_data=real_data,\n",
        "    synthetic_data=synthetic_data,\n",
        "    metadata=metadata\n",
        ")"
      ],
      "outputs": [
        {
          "output_type": "stream",
          "name": "stdout",
          "text": "Generating report ...\n(1/3) Evaluating Data Validity: : 100%|██████████| 23/23 [00:00<00:00, 764.62it/s]\n(2/3) Evaluating Data Structure: : 100%|██████████| 2/2 [00:00<00:00, 383.11it/s]\n(3/3) Evaluating Relationship Validity: : 100%|██████████| 1/1 [00:00<00:00, 113.05it/s]\n\nOverall Score: 95.54%\n\nProperties:\n- Data Validity: 86.62%\n- Data Structure: 100.0%\n- Relationship Validity: 100.0%\n"
        },
        {
          "output_type": "stream",
          "name": "stderr",
          "text": "/anaconda/envs/azureml_py310_sdkv2/lib/python3.10/site-packages/sdmetrics/single_column/statistical/boundary_adherence.py:58: RuntimeWarning: invalid value encountered in long_scalars\n  return valid.sum() / len(synthetic_data)\n"
        }
      ],
      "execution_count": 27,
      "metadata": {
        "jupyter": {
          "source_hidden": false,
          "outputs_hidden": false
        },
        "nteract": {
          "transient": {
            "deleting": false
          }
        },
        "gather": {
          "logged": 1715162976680
        }
      }
    },
    {
      "cell_type": "code",
      "source": [
        "from sdv.evaluation.multi_table import evaluate_quality\n",
        "\n",
        "quality_report = evaluate_quality(\n",
        "    real_data,\n",
        "    synthetic_data,\n",
        "    metadata\n",
        ")"
      ],
      "outputs": [
        {
          "output_type": "stream",
          "name": "stdout",
          "text": "Generating report ...\n(1/4) Evaluating Column Shapes: : 100%|██████████| 23/23 [00:01<00:00, 17.46it/s]\n(2/4) Evaluating Column Pair Trends: : 100%|██████████| 123/123 [00:00<00:00, 138.64it/s]\n(3/4) Evaluating Cardinality: : 100%|██████████| 1/1 [00:00<00:00,  4.19it/s]\n(4/4) Evaluating Intertable Trends: : 100%|██████████| 130/130 [00:01<00:00, 114.63it/s]\n\nOverall Score: 40.94%\n\nProperties:\n- Column Shapes: 50.26%\n- Column Pair Trends: 46.83%\n- Cardinality: 15.5%\n- Intertable Trends: 51.19%\n"
        }
      ],
      "execution_count": 28,
      "metadata": {
        "jupyter": {
          "source_hidden": false,
          "outputs_hidden": false
        },
        "nteract": {
          "transient": {
            "deleting": false
          }
        },
        "gather": {
          "logged": 1715162989673
        }
      }
    },
    {
      "cell_type": "code",
      "source": [
        "quality_report.get_details('Column Shapes')"
      ],
      "outputs": [
        {
          "output_type": "execute_result",
          "execution_count": 29,
          "data": {
            "text/plain": "         Table             Column        Metric         Score  \\\n0   Competence             Source  TVComplement  1.000000e+00   \n1   Competence           Acquired  KSComplement  8.925671e-01   \n2   Competence               Lang  TVComplement  8.315054e-01   \n3   Competence   Qualification_Id  KSComplement  3.338070e-01   \n4   Competence            Created  KSComplement  1.899478e-02   \n5   Competence          CreatedBy  TVComplement  1.000000e-10   \n6   Competence           Modified  KSComplement           NaN   \n7   Competence         ModifiedBy  KSComplement           NaN   \n8   Contractor             Source  TVComplement  1.000000e+00   \n9   Contractor           PhotoUrl  TVComplement  1.000000e-10   \n10  Contractor        Nationality  TVComplement  3.846154e-01   \n11  Contractor           BirthDay  TVComplement           NaN   \n12  Contractor  ContractorUpdated  KSComplement  5.643000e-01   \n\n                                                Error  \n0                                                None  \n1                                                None  \n2                                                None  \n3                                                None  \n4                                                None  \n5                                                None  \n6   ValueError: Data passed to ks_2samp must not b...  \n7   ValueError: Data passed to ks_2samp must not b...  \n8                                                None  \n9                                                None  \n10                                               None  \n11  IncomputableMetricError: The TVComplement metr...  \n12                                               None  ",
            "text/html": "<div>\n<style scoped>\n    .dataframe tbody tr th:only-of-type {\n        vertical-align: middle;\n    }\n\n    .dataframe tbody tr th {\n        vertical-align: top;\n    }\n\n    .dataframe thead th {\n        text-align: right;\n    }\n</style>\n<table border=\"1\" class=\"dataframe\">\n  <thead>\n    <tr style=\"text-align: right;\">\n      <th></th>\n      <th>Table</th>\n      <th>Column</th>\n      <th>Metric</th>\n      <th>Score</th>\n      <th>Error</th>\n    </tr>\n  </thead>\n  <tbody>\n    <tr>\n      <th>0</th>\n      <td>Competence</td>\n      <td>Source</td>\n      <td>TVComplement</td>\n      <td>1.000000e+00</td>\n      <td>None</td>\n    </tr>\n    <tr>\n      <th>1</th>\n      <td>Competence</td>\n      <td>Acquired</td>\n      <td>KSComplement</td>\n      <td>8.925671e-01</td>\n      <td>None</td>\n    </tr>\n    <tr>\n      <th>2</th>\n      <td>Competence</td>\n      <td>Lang</td>\n      <td>TVComplement</td>\n      <td>8.315054e-01</td>\n      <td>None</td>\n    </tr>\n    <tr>\n      <th>3</th>\n      <td>Competence</td>\n      <td>Qualification_Id</td>\n      <td>KSComplement</td>\n      <td>3.338070e-01</td>\n      <td>None</td>\n    </tr>\n    <tr>\n      <th>4</th>\n      <td>Competence</td>\n      <td>Created</td>\n      <td>KSComplement</td>\n      <td>1.899478e-02</td>\n      <td>None</td>\n    </tr>\n    <tr>\n      <th>5</th>\n      <td>Competence</td>\n      <td>CreatedBy</td>\n      <td>TVComplement</td>\n      <td>1.000000e-10</td>\n      <td>None</td>\n    </tr>\n    <tr>\n      <th>6</th>\n      <td>Competence</td>\n      <td>Modified</td>\n      <td>KSComplement</td>\n      <td>NaN</td>\n      <td>ValueError: Data passed to ks_2samp must not b...</td>\n    </tr>\n    <tr>\n      <th>7</th>\n      <td>Competence</td>\n      <td>ModifiedBy</td>\n      <td>KSComplement</td>\n      <td>NaN</td>\n      <td>ValueError: Data passed to ks_2samp must not b...</td>\n    </tr>\n    <tr>\n      <th>8</th>\n      <td>Contractor</td>\n      <td>Source</td>\n      <td>TVComplement</td>\n      <td>1.000000e+00</td>\n      <td>None</td>\n    </tr>\n    <tr>\n      <th>9</th>\n      <td>Contractor</td>\n      <td>PhotoUrl</td>\n      <td>TVComplement</td>\n      <td>1.000000e-10</td>\n      <td>None</td>\n    </tr>\n    <tr>\n      <th>10</th>\n      <td>Contractor</td>\n      <td>Nationality</td>\n      <td>TVComplement</td>\n      <td>3.846154e-01</td>\n      <td>None</td>\n    </tr>\n    <tr>\n      <th>11</th>\n      <td>Contractor</td>\n      <td>BirthDay</td>\n      <td>TVComplement</td>\n      <td>NaN</td>\n      <td>IncomputableMetricError: The TVComplement metr...</td>\n    </tr>\n    <tr>\n      <th>12</th>\n      <td>Contractor</td>\n      <td>ContractorUpdated</td>\n      <td>KSComplement</td>\n      <td>5.643000e-01</td>\n      <td>None</td>\n    </tr>\n  </tbody>\n</table>\n</div>"
          },
          "metadata": {}
        }
      ],
      "execution_count": 29,
      "metadata": {
        "jupyter": {
          "source_hidden": false,
          "outputs_hidden": false
        },
        "nteract": {
          "transient": {
            "deleting": false
          }
        },
        "gather": {
          "logged": 1715163036251
        }
      }
    },
    {
      "cell_type": "code",
      "source": [
        "synthetic_data['Competence'].to_csv('competence_HMAdata_1000_100.csv', index=False)\n",
        "synthetic_data['Contractor'].to_csv('contractor_HMAdata_1000_100.csv', index=False)"
      ],
      "outputs": [],
      "execution_count": null,
      "metadata": {
        "jupyter": {
          "source_hidden": false,
          "outputs_hidden": false
        },
        "nteract": {
          "transient": {
            "deleting": false
          }
        },
        "gather": {
          "logged": 1716325745853
        }
      }
    }
  ],
  "metadata": {
    "kernelspec": {
      "name": "python310-sdkv2",
      "language": "python",
      "display_name": "Python 3.10 - SDK v2"
    },
    "language_info": {
      "name": "python",
      "version": "3.10.11",
      "mimetype": "text/x-python",
      "codemirror_mode": {
        "name": "ipython",
        "version": 3
      },
      "pygments_lexer": "ipython3",
      "nbconvert_exporter": "python",
      "file_extension": ".py"
    },
    "microsoft": {
      "ms_spell_check": {
        "ms_spell_check_language": "en"
      },
      "host": {
        "AzureML": {
          "notebookHasBeenCompleted": true
        }
      }
    },
    "nteract": {
      "version": "nteract-front-end@1.0.0"
    },
    "kernel_info": {
      "name": "python310-sdkv2"
    }
  },
  "nbformat": 4,
  "nbformat_minor": 2
}